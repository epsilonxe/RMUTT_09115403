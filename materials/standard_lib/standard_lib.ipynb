{
 "cells": [
  {
   "cell_type": "code",
   "execution_count": 10,
   "id": "caa13034",
   "metadata": {},
   "outputs": [],
   "source": [
    "import random"
   ]
  },
  {
   "cell_type": "code",
   "execution_count": 12,
   "id": "0db0de8f",
   "metadata": {},
   "outputs": [
    {
     "name": "stdout",
     "output_type": "stream",
     "text": [
      "Round 0: x = 0.7885856523204532\n",
      "Round 1: x = 0.8415448114904187\n",
      "Round 2: x = 0.4210512161126394\n",
      "Round 3: x = 0.4312631891563351\n",
      "Round 4: x = 0.16009040209617553\n",
      "Round 5: x = 0.1649765579603354\n",
      "Round 6: x = 0.17576725175151564\n",
      "Round 7: x = 0.9719690050117007\n",
      "Round 8: x = 0.4397673860247189\n",
      "Round 9: x = 0.40452077364337746\n"
     ]
    }
   ],
   "source": [
    "for i in range(10):\n",
    "    x = random.random()\n",
    "    print(f'Round {i}: x = {x}')"
   ]
  },
  {
   "cell_type": "code",
   "execution_count": 15,
   "id": "ba17aa7e",
   "metadata": {},
   "outputs": [
    {
     "name": "stdout",
     "output_type": "stream",
     "text": [
      "Round 0: x = 11.965860371166615\n",
      "Round 1: x = 11.146312596003913\n",
      "Round 2: x = 11.973050884607645\n",
      "Round 3: x = 11.82563304732352\n",
      "Round 4: x = 11.866019450238007\n",
      "Round 5: x = 11.109272774574675\n",
      "Round 6: x = 11.55309848923129\n",
      "Round 7: x = 11.17411709516244\n",
      "Round 8: x = 11.753065704073832\n",
      "Round 9: x = 11.900900917848595\n"
     ]
    }
   ],
   "source": [
    "for i in range(10):\n",
    "    x = random.uniform(11, 12)\n",
    "    print(f'Round {i}: x = {x}')"
   ]
  },
  {
   "cell_type": "code",
   "execution_count": 16,
   "id": "7a66134a",
   "metadata": {},
   "outputs": [
    {
     "name": "stdout",
     "output_type": "stream",
     "text": [
      "Round 0: x = 64\n",
      "Round 1: x = 94\n",
      "Round 2: x = 47\n",
      "Round 3: x = 17\n",
      "Round 4: x = 96\n",
      "Round 5: x = 14\n",
      "Round 6: x = 83\n",
      "Round 7: x = 72\n",
      "Round 8: x = 66\n",
      "Round 9: x = 88\n"
     ]
    }
   ],
   "source": [
    "for i in range(10):\n",
    "    x = random.randint(1, 100)\n",
    "    print(f'Round {i}: x = {x}')"
   ]
  },
  {
   "cell_type": "code",
   "execution_count": 27,
   "id": "11bbefd2",
   "metadata": {},
   "outputs": [
    {
     "name": "stdout",
     "output_type": "stream",
     "text": [
      "3.1415926535897931159979635\n"
     ]
    }
   ],
   "source": [
    "import math\n",
    "\n",
    "print(f'{math.pi:.25f}')"
   ]
  },
  {
   "cell_type": "code",
   "execution_count": 38,
   "id": "88bc29c5",
   "metadata": {},
   "outputs": [
    {
     "name": "stdout",
     "output_type": "stream",
     "text": [
      "x=   0.00000 -> sin(0.00000)=0.00000 , cos(0.00000)=1.00000\n",
      "x=   0.52360 -> sin(0.52360)=0.50000 , cos(0.52360)=0.86603\n",
      "x=   0.78540 -> sin(0.78540)=0.70711 , cos(0.78540)=0.70711\n",
      "x=   1.04720 -> sin(1.04720)=0.86603 , cos(1.04720)=0.50000\n",
      "x=   1.57080 -> sin(1.57080)=1.00000 , cos(1.57080)=0.00000\n",
      "x=   3.14159 -> sin(3.14159)=0.00000 , cos(3.14159)=-1.00000\n"
     ]
    }
   ],
   "source": [
    "for x in [0, math.pi/6, math.pi/4, math.pi/3, math.pi/2, math.pi]:\n",
    "    print(f'x={x:10.5f} -> sin({x:.5f})={math.sin(x):.5f} , cos({x:.5f})={math.cos(x):.5f}')"
   ]
  },
  {
   "cell_type": "code",
   "execution_count": 40,
   "id": "6bd6ba1a",
   "metadata": {},
   "outputs": [
    {
     "data": {
      "text/plain": [
       "8"
      ]
     },
     "execution_count": 40,
     "metadata": {},
     "output_type": "execute_result"
    }
   ],
   "source": [
    "math.ceil(7.2)"
   ]
  },
  {
   "cell_type": "code",
   "execution_count": 43,
   "id": "9aab8bb4",
   "metadata": {},
   "outputs": [
    {
     "data": {
      "text/plain": [
       "8"
      ]
     },
     "execution_count": 43,
     "metadata": {},
     "output_type": "execute_result"
    }
   ],
   "source": [
    "round(7.5)"
   ]
  },
  {
   "cell_type": "code",
   "execution_count": 45,
   "id": "20462d89",
   "metadata": {},
   "outputs": [
    {
     "data": {
      "text/plain": [
       "7"
      ]
     },
     "execution_count": 45,
     "metadata": {},
     "output_type": "execute_result"
    }
   ],
   "source": [
    "math.floor(7.9)"
   ]
  },
  {
   "cell_type": "code",
   "execution_count": 47,
   "id": "eee5ff3b",
   "metadata": {},
   "outputs": [
    {
     "data": {
      "text/plain": [
       "6"
      ]
     },
     "execution_count": 47,
     "metadata": {},
     "output_type": "execute_result"
    }
   ],
   "source": [
    "math.gcd(24, 12, 54, 90)"
   ]
  },
  {
   "cell_type": "code",
   "execution_count": 48,
   "id": "501cfa48",
   "metadata": {},
   "outputs": [
    {
     "data": {
      "text/plain": [
       "1080"
      ]
     },
     "execution_count": 48,
     "metadata": {},
     "output_type": "execute_result"
    }
   ],
   "source": [
    "math.lcm(24, 12, 54, 90)"
   ]
  },
  {
   "cell_type": "code",
   "execution_count": 49,
   "id": "c5036f6d",
   "metadata": {},
   "outputs": [
    {
     "data": {
      "text/plain": [
       "2.302585092994046"
      ]
     },
     "execution_count": 49,
     "metadata": {},
     "output_type": "execute_result"
    }
   ],
   "source": [
    "math.log(10)"
   ]
  },
  {
   "cell_type": "code",
   "execution_count": 50,
   "id": "94ad191a",
   "metadata": {},
   "outputs": [
    {
     "data": {
      "text/plain": [
       "2.718281828459045"
      ]
     },
     "execution_count": 50,
     "metadata": {},
     "output_type": "execute_result"
    }
   ],
   "source": [
    "math.e"
   ]
  },
  {
   "cell_type": "code",
   "execution_count": 51,
   "id": "ce75db19",
   "metadata": {},
   "outputs": [
    {
     "data": {
      "text/plain": [
       "1.0"
      ]
     },
     "execution_count": 51,
     "metadata": {},
     "output_type": "execute_result"
    }
   ],
   "source": [
    "math.log(math.e)"
   ]
  },
  {
   "cell_type": "code",
   "execution_count": 52,
   "id": "261f4c37",
   "metadata": {},
   "outputs": [
    {
     "data": {
      "text/plain": [
       "1.0"
      ]
     },
     "execution_count": 52,
     "metadata": {},
     "output_type": "execute_result"
    }
   ],
   "source": [
    "math.log(10, 10)"
   ]
  },
  {
   "cell_type": "code",
   "execution_count": 53,
   "id": "02f68d6e",
   "metadata": {},
   "outputs": [
    {
     "data": {
      "text/plain": [
       "1.0"
      ]
     },
     "execution_count": 53,
     "metadata": {},
     "output_type": "execute_result"
    }
   ],
   "source": [
    "math.log10(10)"
   ]
  },
  {
   "cell_type": "code",
   "execution_count": 56,
   "id": "573458be",
   "metadata": {},
   "outputs": [
    {
     "name": "stdout",
     "output_type": "stream",
     "text": [
      "x=   0.00000 -> sin(0.00000)=0.00000 , cos(0.00000)=1.00000\n",
      "x=   0.52360 -> sin(0.52360)=0.50000 , cos(0.52360)=0.86603\n",
      "x=   0.78540 -> sin(0.78540)=0.70711 , cos(0.78540)=0.70711\n",
      "x=   1.04720 -> sin(1.04720)=0.86603 , cos(1.04720)=0.50000\n",
      "x=   1.57080 -> sin(1.57080)=1.00000 , cos(1.57080)=0.00000\n",
      "x=   3.14159 -> sin(3.14159)=0.00000 , cos(3.14159)=-1.00000\n"
     ]
    }
   ],
   "source": [
    "from math import pi, sin, cos\n",
    "\n",
    "for x in [0, pi/6, pi/4, pi/3, pi/2, pi]:\n",
    "    print(f'x={x:10.5f} -> sin({x:.5f})={sin(x):.5f} , cos({x:.5f})={cos(x):.5f}')"
   ]
  },
  {
   "cell_type": "code",
   "execution_count": 57,
   "id": "a9029d8a",
   "metadata": {},
   "outputs": [
    {
     "name": "stdout",
     "output_type": "stream",
     "text": [
      "x=   0.00000 -> cos(0.00000)=1.00000\n",
      "x=   0.52360 -> cos(0.52360)=0.86603\n",
      "x=   0.78540 -> cos(0.78540)=0.70711\n",
      "x=   1.04720 -> cos(1.04720)=0.50000\n",
      "x=   1.57080 -> cos(1.57080)=0.00000\n",
      "x=   3.14159 -> cos(3.14159)=-1.00000\n"
     ]
    }
   ],
   "source": [
    "from math import cos as pycos\n",
    "\n",
    "for x in [0, pi/6, pi/4, pi/3, pi/2, pi]:\n",
    "    print(f'x={x:10.5f} -> cos({x:.5f})={pycos(x):.5f}')"
   ]
  },
  {
   "cell_type": "code",
   "execution_count": 59,
   "id": "2c1478b8",
   "metadata": {},
   "outputs": [
    {
     "name": "stdout",
     "output_type": "stream",
     "text": [
      "2021-10-06\n"
     ]
    }
   ],
   "source": [
    "import datetime\n",
    "\n",
    "print(datetime.date.today())"
   ]
  },
  {
   "cell_type": "code",
   "execution_count": 60,
   "id": "7b760671",
   "metadata": {},
   "outputs": [
    {
     "name": "stdout",
     "output_type": "stream",
     "text": [
      "2021-10-06\n"
     ]
    }
   ],
   "source": [
    "from datetime import date\n",
    "\n",
    "print(date.today())"
   ]
  },
  {
   "cell_type": "code",
   "execution_count": 78,
   "id": "724c294c",
   "metadata": {},
   "outputs": [
    {
     "name": "stdout",
     "output_type": "stream",
     "text": [
      "Wed Oct  6 10:21:37 2021\n"
     ]
    }
   ],
   "source": [
    "import time\n",
    "\n",
    "print(time.ctime())"
   ]
  },
  {
   "cell_type": "code",
   "execution_count": 83,
   "id": "bc0dfe26",
   "metadata": {},
   "outputs": [
    {
     "data": {
      "text/plain": [
       "1633490563.152104"
      ]
     },
     "execution_count": 83,
     "metadata": {},
     "output_type": "execute_result"
    }
   ],
   "source": [
    "time.time()"
   ]
  },
  {
   "cell_type": "code",
   "execution_count": 85,
   "id": "9b2908fb",
   "metadata": {},
   "outputs": [
    {
     "data": {
      "text/plain": [
       "1633490602.909529"
      ]
     },
     "execution_count": 85,
     "metadata": {},
     "output_type": "execute_result"
    }
   ],
   "source": [
    "time.time()"
   ]
  },
  {
   "cell_type": "code",
   "execution_count": 95,
   "id": "94174d2c",
   "metadata": {},
   "outputs": [
    {
     "name": "stdout",
     "output_type": "stream",
     "text": [
      "x=   0.00000 -> sin(0.00000)=0.00000 , cos(0.00000)=1.00000\n",
      "x=   0.52360 -> sin(0.52360)=0.50000 , cos(0.52360)=0.86603\n",
      "x=   0.78540 -> sin(0.78540)=0.70711 , cos(0.78540)=0.70711\n",
      "x=   1.04720 -> sin(1.04720)=0.86603 , cos(1.04720)=0.50000\n",
      "x=   1.57080 -> sin(1.57080)=1.00000 , cos(1.57080)=0.00000\n",
      "x=   3.14159 -> sin(3.14159)=0.00000 , cos(3.14159)=-1.00000\n",
      "\n",
      "\n",
      "Running time = 0.0008349418640136719 seconds\n"
     ]
    }
   ],
   "source": [
    "tic = time.time()\n",
    "\n",
    "for x in [0, math.pi/6, math.pi/4, math.pi/3, math.pi/2, math.pi]:\n",
    "    print(f'x={x:10.5f} -> sin({x:.5f})={math.sin(x):.5f} , cos({x:.5f})={math.cos(x):.5f}')\n",
    "\n",
    "toc = time.time()\n",
    "running_time = toc - tic\n",
    "print(f'\\n\\nRunning time = {running_time} seconds')"
   ]
  },
  {
   "cell_type": "code",
   "execution_count": null,
   "id": "4b661871",
   "metadata": {},
   "outputs": [],
   "source": []
  }
 ],
 "metadata": {
  "kernelspec": {
   "display_name": "Python 3",
   "language": "python",
   "name": "python3"
  },
  "language_info": {
   "codemirror_mode": {
    "name": "ipython",
    "version": 3
   },
   "file_extension": ".py",
   "mimetype": "text/x-python",
   "name": "python",
   "nbconvert_exporter": "python",
   "pygments_lexer": "ipython3",
   "version": "3.9.0"
  }
 },
 "nbformat": 4,
 "nbformat_minor": 5
}
