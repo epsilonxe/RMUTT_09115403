{
 "cells": [
  {
   "cell_type": "markdown",
   "id": "e7b4fbf8",
   "metadata": {},
   "source": [
    "# My Title\n",
    "\n",
    "fdsfdsf fdsfsdfdsf\n",
    "fdsfsdfdsfdsfsdfdsf\n",
    "fdsfsdfds fdsfsdfdsf fdsfsdfdsfds\n",
    "fsdfsdfsdfdsffds fsdfsdfdsfdfsdfsdf\n",
    "\n",
    "$ x^2 - 3x = 16 $\n",
    "\n",
    "$ \\int f(x) dx = F(x) + c $\n",
    "\n",
    "$$ \\int_{a}^{b} f(x) = F(b) - F(a) $$\n",
    "\n",
    "\n",
    "fdsfdsfd fdsf fdsfds fsdfdsfdsfdsf\n",
    "fdsfdsfdsf fdsfsdf\n",
    "fdsfdsf\n",
    "\n",
    "## Topic 1\n",
    "\n",
    "fdsfds fdsf fdsf dsfdsfdsfdsfdfdsffdsfs\n",
    "fdsfdsfdsfdsf\n",
    "fdsfdsfdsfdsfdsfdsfdsfdsfsdfds\n",
    "\n",
    "### Subtopic\n",
    "fdsfsd fsdfsdfsd\n"
   ]
  },
  {
   "cell_type": "code",
   "execution_count": 26,
   "id": "96b98cfb",
   "metadata": {},
   "outputs": [
    {
     "name": "stdout",
     "output_type": "stream",
     "text": [
      "Hello Jupyter\n"
     ]
    }
   ],
   "source": [
    "print('Hello Jupyter')"
   ]
  },
  {
   "cell_type": "code",
   "execution_count": 27,
   "id": "70af307b",
   "metadata": {},
   "outputs": [],
   "source": [
    "a = 99\n",
    "b = 9\n",
    "c = 'Hello'\n",
    "\n",
    "x = (a + b) * c"
   ]
  },
  {
   "cell_type": "code",
   "execution_count": 28,
   "id": "44b73e81",
   "metadata": {},
   "outputs": [
    {
     "name": "stdout",
     "output_type": "stream",
     "text": [
      "99\n",
      "HelloHelloHelloHelloHelloHelloHelloHelloHelloHelloHelloHelloHelloHelloHelloHelloHelloHelloHelloHelloHelloHelloHelloHelloHelloHelloHelloHelloHelloHelloHelloHelloHelloHelloHelloHelloHelloHelloHelloHelloHelloHelloHelloHelloHelloHelloHelloHelloHelloHelloHelloHelloHelloHelloHelloHelloHelloHelloHelloHelloHelloHelloHelloHelloHelloHelloHelloHelloHelloHelloHelloHelloHelloHelloHelloHelloHelloHelloHelloHelloHelloHelloHelloHelloHelloHelloHelloHelloHelloHelloHelloHelloHelloHelloHelloHelloHelloHelloHelloHelloHelloHelloHelloHelloHelloHelloHelloHello\n"
     ]
    }
   ],
   "source": [
    "print(a)\n",
    "print(x)"
   ]
  },
  {
   "cell_type": "code",
   "execution_count": 29,
   "id": "212845a3",
   "metadata": {},
   "outputs": [
    {
     "data": {
      "text/plain": [
       "913517247483640899"
      ]
     },
     "execution_count": 29,
     "metadata": {},
     "output_type": "execute_result"
    }
   ],
   "source": [
    "a ** b"
   ]
  },
  {
   "cell_type": "code",
   "execution_count": 30,
   "id": "484e109f",
   "metadata": {},
   "outputs": [
    {
     "name": "stdout",
     "output_type": "stream",
     "text": [
      "99 is positive\n"
     ]
    }
   ],
   "source": [
    "if a > 0:\n",
    "    print(f'{a} is positive')\n",
    "else:\n",
    "    print(f'{a} is non-positive')"
   ]
  },
  {
   "cell_type": "code",
   "execution_count": null,
   "id": "fccc7f45",
   "metadata": {},
   "outputs": [],
   "source": []
  }
 ],
 "metadata": {
  "kernelspec": {
   "display_name": "Python 3",
   "language": "python",
   "name": "python3"
  },
  "language_info": {
   "codemirror_mode": {
    "name": "ipython",
    "version": 3
   },
   "file_extension": ".py",
   "mimetype": "text/x-python",
   "name": "python",
   "nbconvert_exporter": "python",
   "pygments_lexer": "ipython3",
   "version": "3.9.0"
  }
 },
 "nbformat": 4,
 "nbformat_minor": 5
}
