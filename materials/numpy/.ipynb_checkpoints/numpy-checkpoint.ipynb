{
 "cells": [
  {
   "cell_type": "markdown",
   "id": "323249a5",
   "metadata": {},
   "source": [
    "# เวกเตอร์และเมทริกซ์\n",
    "\n",
    "-------\n",
    "\n",
    "เวกเตอร์ (Vector) และเมทริกซ์ (Matrix) มีความสำคัญในการศึกษาคณิตศาสตร์และการคำนวณ อีกทั้งยังเป็นพื้นฐานที่จำเป็นของการเขียนกราฟิก ผู้ศึกษาต้องคุ้นเคยกับการใช้สัญลักษณ์เวกเตอร์และเมทริกซ์รวมไปถึงคุณสมบัติอื่น ๆ ความรู้พื้นฐานที่จำเป็นนี้เองทำให้เราต้องเข้าใจในคุณสมบัติและต้องจดจำกระบวนการหลาย ๆ อย่าง เช่น การบวก ลบ หรือการคูณ 2 เมทริกซ์เข้าด้วยกัน การหาเมทริกซ์ผกผันจากเมทริกซ์ที่กำหนดมาให้ การต้องจดจำกระบวนการต่าง ๆ เหล่านี้ทั้ง ๆ ที่ยังไม่ทราบว่าจะนำไปใช้ประโยชน์ต่อไปอย่างไรได้โดยชัดเจน ทำให้ผู้ศึกษาจำนวนไม่น้อยเกิดความเบื่อหน่าย อีกทั้งจะลืมกระบวนการเหล่านี้ไปเกือบจนหมดหลังจากที่จบการศึกษาไปแล้ว\n",
    "\n",
    "เวกเตอร์และเมทริกซ์ยังเป็นหัวใจที่สำคัญสำหรับการประดิษฐ์ซอฟต์แวร์ขนาดใหญ่เพื่อใช้แก้ปัญหาทางวิทยาศาสตร์และวิศวกรรมศาสตร์ในปัจจุบัน ทั้งนี้ก็เพราะเหตุผลหลักที่ว่าเวกเตอร์และเมทริกซ์ช่วยทำให้การจัดการภายในซอฟต์แวร์เหล่านี้เป็นไปได้อย่างมีประสิทธิภาพ ซอฟต์แวร์ขนาดใหญ่ที่มีราคาสูงล้วนตั้งอยู่บนฐานองค์ความรู้ของเวกเตอร์และเมทริกซ์ ซอฟต์แวร์ไพธอนบรรจุคำสั่งที่สามารถจัดการกับเวกเตอร์และเมทริกซ์ได้โดยสะดวก ทำให้เราเกิดความเข้าใจในกระบวนการและผลลัพธ์ที่เกิดขึ้นได้อย่างชัดเจน ดังนั้นในบทนี้เราจะมาทบทวนการจัดการกับเวกเตอร์และเมทริกซ์ด้วยการใช้ตัวอย่างที่ง่าย ๆ โดยเราต้องตระหนักอยู่เสมอว่ากระบวนการเช่นเดียวกันนี้สามารถนำไปประยุกต์ใช้กับเวกเตอร์และเมทริกซ์ที่มีขนาดใหญ่ ซึ่งใช้ในงานทางปฏิบัติได้เช่นกัน \n",
    "\n",
    "# แพ็กเกจ NumPy สำหรับการสร้างอาร์เรย์\n",
    "\n",
    "\n",
    "อาร์เรย์ (Array) ใน 1 มิติ หมายถึง เมทริกซ์ที่มีเพียงแถวเดียว ซึ่งอาจเป็นเวกเตอร์แบบแถวนอน (Row Vector) เช่น\n",
    "\n",
    "$$\n",
    "\\begin{bmatrix} \n",
    "3 & 5 & 1 & 9 \n",
    "\\end{bmatrix}  \n",
    "$$\n",
    "\n",
    "\n",
    "\n",
    "หรือเวกเตอร์แบบแถวตั้ง (Column Vector) เช่น\n",
    "\n",
    "$$\n",
    "\\begin{bmatrix} \n",
    "8 \\\\ 3 \n",
    "\\end{bmatrix} \n",
    "$$\n",
    "\n",
    "ส่วนอาร์เรย์ใน 2 มิติ หมายถึง เมทริกซ์ที่มีทั้งแถวนอนและแถวตั้ง เช่น \n",
    "\n",
    "$$\n",
    "\\begin{bmatrix} \n",
    "1 & -1\n",
    " \\\\ -1 & 1 \n",
    " \\end{bmatrix}\n",
    "$$\n",
    "\n",
    "อาร์เรย์ที่อยู่ในรูปแบบของเวกเตอร์และเมทริกซ์นี้ได้ถูกนำมาประยุกต์ใช้ในศาสตร์ของการคำนวณกันอย่างกว้างขวาง\n",
    "\n",
    "แพ็กเกจ NumPy บรรจุคำสั่งและฟังก์ชันพื้นฐานเพื่อช่วยอำนวยความสะดวกในการดำเนินการที่เกี่ยวข้องกับเวกเตอร์และเมทริกซ์ได้เป็นอย่างดี คำสั่งและฟังก์ชันพื้นฐานในแพ็กเกจนี้มีเป็นจำนวนมาก ซึ่งสามารถแสดงได้ด้วยคำสั่ง "
   ]
  },
  {
   "cell_type": "code",
   "execution_count": 1,
   "id": "f346a783",
   "metadata": {},
   "outputs": [
    {
     "data": {
      "text/plain": [
       "['ALLOW_THREADS',\n",
       " 'AxisError',\n",
       " 'BUFSIZE',\n",
       " 'Bytes0',\n",
       " 'CLIP',\n",
       " 'ComplexWarning',\n",
       " 'DataSource',\n",
       " 'Datetime64',\n",
       " 'ERR_CALL',\n",
       " 'ERR_DEFAULT',\n",
       " 'ERR_IGNORE',\n",
       " 'ERR_LOG',\n",
       " 'ERR_PRINT',\n",
       " 'ERR_RAISE',\n",
       " 'ERR_WARN',\n",
       " 'FLOATING_POINT_SUPPORT',\n",
       " 'FPE_DIVIDEBYZERO',\n",
       " 'FPE_INVALID',\n",
       " 'FPE_OVERFLOW',\n",
       " 'FPE_UNDERFLOW',\n",
       " 'False_',\n",
       " 'Inf',\n",
       " 'Infinity',\n",
       " 'MAXDIMS',\n",
       " 'MAY_SHARE_BOUNDS',\n",
       " 'MAY_SHARE_EXACT',\n",
       " 'MachAr',\n",
       " 'ModuleDeprecationWarning',\n",
       " 'NAN',\n",
       " 'NINF',\n",
       " 'NZERO',\n",
       " 'NaN',\n",
       " 'PINF',\n",
       " 'PZERO',\n",
       " 'RAISE',\n",
       " 'RankWarning',\n",
       " 'SHIFT_DIVIDEBYZERO',\n",
       " 'SHIFT_INVALID',\n",
       " 'SHIFT_OVERFLOW',\n",
       " 'SHIFT_UNDERFLOW',\n",
       " 'ScalarType',\n",
       " 'Str0',\n",
       " 'Tester',\n",
       " 'TooHardError',\n",
       " 'True_',\n",
       " 'UFUNC_BUFSIZE_DEFAULT',\n",
       " 'UFUNC_PYVALS_NAME',\n",
       " 'Uint64',\n",
       " 'VisibleDeprecationWarning',\n",
       " 'WRAP',\n",
       " '_NoValue',\n",
       " '_UFUNC_API',\n",
       " '__NUMPY_SETUP__',\n",
       " '__all__',\n",
       " '__builtins__',\n",
       " '__cached__',\n",
       " '__config__',\n",
       " '__deprecated_attrs__',\n",
       " '__dir__',\n",
       " '__doc__',\n",
       " '__expired_functions__',\n",
       " '__file__',\n",
       " '__getattr__',\n",
       " '__git_revision__',\n",
       " '__loader__',\n",
       " '__name__',\n",
       " '__package__',\n",
       " '__path__',\n",
       " '__spec__',\n",
       " '__version__',\n",
       " '_add_newdoc_ufunc',\n",
       " '_distributor_init',\n",
       " '_financial_names',\n",
       " '_globals',\n",
       " '_mat',\n",
       " '_pytesttester',\n",
       " 'abs',\n",
       " 'absolute',\n",
       " 'add',\n",
       " 'add_docstring',\n",
       " 'add_newdoc',\n",
       " 'add_newdoc_ufunc',\n",
       " 'alen',\n",
       " 'all',\n",
       " 'allclose',\n",
       " 'alltrue',\n",
       " 'amax',\n",
       " 'amin',\n",
       " 'angle',\n",
       " 'any',\n",
       " 'append',\n",
       " 'apply_along_axis',\n",
       " 'apply_over_axes',\n",
       " 'arange',\n",
       " 'arccos',\n",
       " 'arccosh',\n",
       " 'arcsin',\n",
       " 'arcsinh',\n",
       " 'arctan',\n",
       " 'arctan2',\n",
       " 'arctanh',\n",
       " 'argmax',\n",
       " 'argmin',\n",
       " 'argpartition',\n",
       " 'argsort',\n",
       " 'argwhere',\n",
       " 'around',\n",
       " 'array',\n",
       " 'array2string',\n",
       " 'array_equal',\n",
       " 'array_equiv',\n",
       " 'array_repr',\n",
       " 'array_split',\n",
       " 'array_str',\n",
       " 'asanyarray',\n",
       " 'asarray',\n",
       " 'asarray_chkfinite',\n",
       " 'ascontiguousarray',\n",
       " 'asfarray',\n",
       " 'asfortranarray',\n",
       " 'asmatrix',\n",
       " 'asscalar',\n",
       " 'atleast_1d',\n",
       " 'atleast_2d',\n",
       " 'atleast_3d',\n",
       " 'average',\n",
       " 'bartlett',\n",
       " 'base_repr',\n",
       " 'binary_repr',\n",
       " 'bincount',\n",
       " 'bitwise_and',\n",
       " 'bitwise_not',\n",
       " 'bitwise_or',\n",
       " 'bitwise_xor',\n",
       " 'blackman',\n",
       " 'block',\n",
       " 'bmat',\n",
       " 'bool8',\n",
       " 'bool_',\n",
       " 'broadcast',\n",
       " 'broadcast_arrays',\n",
       " 'broadcast_shapes',\n",
       " 'broadcast_to',\n",
       " 'busday_count',\n",
       " 'busday_offset',\n",
       " 'busdaycalendar',\n",
       " 'byte',\n",
       " 'byte_bounds',\n",
       " 'bytes0',\n",
       " 'bytes_',\n",
       " 'c_',\n",
       " 'can_cast',\n",
       " 'cast',\n",
       " 'cbrt',\n",
       " 'cdouble',\n",
       " 'ceil',\n",
       " 'cfloat',\n",
       " 'char',\n",
       " 'character',\n",
       " 'chararray',\n",
       " 'choose',\n",
       " 'clip',\n",
       " 'clongdouble',\n",
       " 'clongfloat',\n",
       " 'column_stack',\n",
       " 'common_type',\n",
       " 'compare_chararrays',\n",
       " 'compat',\n",
       " 'complex128',\n",
       " 'complex256',\n",
       " 'complex64',\n",
       " 'complex_',\n",
       " 'complexfloating',\n",
       " 'compress',\n",
       " 'concatenate',\n",
       " 'conj',\n",
       " 'conjugate',\n",
       " 'convolve',\n",
       " 'copy',\n",
       " 'copysign',\n",
       " 'copyto',\n",
       " 'core',\n",
       " 'corrcoef',\n",
       " 'correlate',\n",
       " 'cos',\n",
       " 'cosh',\n",
       " 'count_nonzero',\n",
       " 'cov',\n",
       " 'cross',\n",
       " 'csingle',\n",
       " 'ctypeslib',\n",
       " 'cumprod',\n",
       " 'cumproduct',\n",
       " 'cumsum',\n",
       " 'datetime64',\n",
       " 'datetime_as_string',\n",
       " 'datetime_data',\n",
       " 'deg2rad',\n",
       " 'degrees',\n",
       " 'delete',\n",
       " 'deprecate',\n",
       " 'deprecate_with_doc',\n",
       " 'diag',\n",
       " 'diag_indices',\n",
       " 'diag_indices_from',\n",
       " 'diagflat',\n",
       " 'diagonal',\n",
       " 'diff',\n",
       " 'digitize',\n",
       " 'disp',\n",
       " 'divide',\n",
       " 'divmod',\n",
       " 'dot',\n",
       " 'double',\n",
       " 'dsplit',\n",
       " 'dstack',\n",
       " 'dtype',\n",
       " 'e',\n",
       " 'ediff1d',\n",
       " 'einsum',\n",
       " 'einsum_path',\n",
       " 'emath',\n",
       " 'empty',\n",
       " 'empty_like',\n",
       " 'equal',\n",
       " 'error_message',\n",
       " 'errstate',\n",
       " 'euler_gamma',\n",
       " 'exp',\n",
       " 'exp2',\n",
       " 'expand_dims',\n",
       " 'expm1',\n",
       " 'extract',\n",
       " 'eye',\n",
       " 'fabs',\n",
       " 'fastCopyAndTranspose',\n",
       " 'fft',\n",
       " 'fill_diagonal',\n",
       " 'find_common_type',\n",
       " 'finfo',\n",
       " 'fix',\n",
       " 'flatiter',\n",
       " 'flatnonzero',\n",
       " 'flexible',\n",
       " 'flip',\n",
       " 'fliplr',\n",
       " 'flipud',\n",
       " 'float128',\n",
       " 'float16',\n",
       " 'float32',\n",
       " 'float64',\n",
       " 'float_',\n",
       " 'float_power',\n",
       " 'floating',\n",
       " 'floor',\n",
       " 'floor_divide',\n",
       " 'fmax',\n",
       " 'fmin',\n",
       " 'fmod',\n",
       " 'format_float_positional',\n",
       " 'format_float_scientific',\n",
       " 'format_parser',\n",
       " 'frexp',\n",
       " 'frombuffer',\n",
       " 'fromfile',\n",
       " 'fromfunction',\n",
       " 'fromiter',\n",
       " 'frompyfunc',\n",
       " 'fromregex',\n",
       " 'fromstring',\n",
       " 'full',\n",
       " 'full_like',\n",
       " 'gcd',\n",
       " 'generic',\n",
       " 'genfromtxt',\n",
       " 'geomspace',\n",
       " 'get_array_wrap',\n",
       " 'get_include',\n",
       " 'get_printoptions',\n",
       " 'getbufsize',\n",
       " 'geterr',\n",
       " 'geterrcall',\n",
       " 'geterrobj',\n",
       " 'gradient',\n",
       " 'greater',\n",
       " 'greater_equal',\n",
       " 'half',\n",
       " 'hamming',\n",
       " 'hanning',\n",
       " 'heaviside',\n",
       " 'histogram',\n",
       " 'histogram2d',\n",
       " 'histogram_bin_edges',\n",
       " 'histogramdd',\n",
       " 'hsplit',\n",
       " 'hstack',\n",
       " 'hypot',\n",
       " 'i0',\n",
       " 'identity',\n",
       " 'iinfo',\n",
       " 'imag',\n",
       " 'in1d',\n",
       " 'index_exp',\n",
       " 'indices',\n",
       " 'inexact',\n",
       " 'inf',\n",
       " 'info',\n",
       " 'infty',\n",
       " 'inner',\n",
       " 'insert',\n",
       " 'int0',\n",
       " 'int16',\n",
       " 'int32',\n",
       " 'int64',\n",
       " 'int8',\n",
       " 'int_',\n",
       " 'intc',\n",
       " 'integer',\n",
       " 'interp',\n",
       " 'intersect1d',\n",
       " 'intp',\n",
       " 'invert',\n",
       " 'is_busday',\n",
       " 'isclose',\n",
       " 'iscomplex',\n",
       " 'iscomplexobj',\n",
       " 'isfinite',\n",
       " 'isfortran',\n",
       " 'isin',\n",
       " 'isinf',\n",
       " 'isnan',\n",
       " 'isnat',\n",
       " 'isneginf',\n",
       " 'isposinf',\n",
       " 'isreal',\n",
       " 'isrealobj',\n",
       " 'isscalar',\n",
       " 'issctype',\n",
       " 'issubclass_',\n",
       " 'issubdtype',\n",
       " 'issubsctype',\n",
       " 'iterable',\n",
       " 'ix_',\n",
       " 'kaiser',\n",
       " 'kron',\n",
       " 'lcm',\n",
       " 'ldexp',\n",
       " 'left_shift',\n",
       " 'less',\n",
       " 'less_equal',\n",
       " 'lexsort',\n",
       " 'lib',\n",
       " 'linalg',\n",
       " 'linspace',\n",
       " 'little_endian',\n",
       " 'load',\n",
       " 'loads',\n",
       " 'loadtxt',\n",
       " 'log',\n",
       " 'log10',\n",
       " 'log1p',\n",
       " 'log2',\n",
       " 'logaddexp',\n",
       " 'logaddexp2',\n",
       " 'logical_and',\n",
       " 'logical_not',\n",
       " 'logical_or',\n",
       " 'logical_xor',\n",
       " 'logspace',\n",
       " 'longcomplex',\n",
       " 'longdouble',\n",
       " 'longfloat',\n",
       " 'longlong',\n",
       " 'lookfor',\n",
       " 'ma',\n",
       " 'mafromtxt',\n",
       " 'mask_indices',\n",
       " 'mat',\n",
       " 'math',\n",
       " 'matmul',\n",
       " 'matrix',\n",
       " 'matrixlib',\n",
       " 'max',\n",
       " 'maximum',\n",
       " 'maximum_sctype',\n",
       " 'may_share_memory',\n",
       " 'mean',\n",
       " 'median',\n",
       " 'memmap',\n",
       " 'meshgrid',\n",
       " 'mgrid',\n",
       " 'min',\n",
       " 'min_scalar_type',\n",
       " 'minimum',\n",
       " 'mintypecode',\n",
       " 'mod',\n",
       " 'modf',\n",
       " 'moveaxis',\n",
       " 'msort',\n",
       " 'multiply',\n",
       " 'nan',\n",
       " 'nan_to_num',\n",
       " 'nanargmax',\n",
       " 'nanargmin',\n",
       " 'nancumprod',\n",
       " 'nancumsum',\n",
       " 'nanmax',\n",
       " 'nanmean',\n",
       " 'nanmedian',\n",
       " 'nanmin',\n",
       " 'nanpercentile',\n",
       " 'nanprod',\n",
       " 'nanquantile',\n",
       " 'nanstd',\n",
       " 'nansum',\n",
       " 'nanvar',\n",
       " 'nbytes',\n",
       " 'ndarray',\n",
       " 'ndenumerate',\n",
       " 'ndfromtxt',\n",
       " 'ndim',\n",
       " 'ndindex',\n",
       " 'nditer',\n",
       " 'negative',\n",
       " 'nested_iters',\n",
       " 'newaxis',\n",
       " 'nextafter',\n",
       " 'nonzero',\n",
       " 'not_equal',\n",
       " 'numarray',\n",
       " 'number',\n",
       " 'obj2sctype',\n",
       " 'object0',\n",
       " 'object_',\n",
       " 'ogrid',\n",
       " 'oldnumeric',\n",
       " 'ones',\n",
       " 'ones_like',\n",
       " 'os',\n",
       " 'outer',\n",
       " 'packbits',\n",
       " 'pad',\n",
       " 'partition',\n",
       " 'percentile',\n",
       " 'pi',\n",
       " 'piecewise',\n",
       " 'place',\n",
       " 'poly',\n",
       " 'poly1d',\n",
       " 'polyadd',\n",
       " 'polyder',\n",
       " 'polydiv',\n",
       " 'polyfit',\n",
       " 'polyint',\n",
       " 'polymul',\n",
       " 'polynomial',\n",
       " 'polysub',\n",
       " 'polyval',\n",
       " 'positive',\n",
       " 'power',\n",
       " 'printoptions',\n",
       " 'prod',\n",
       " 'product',\n",
       " 'promote_types',\n",
       " 'ptp',\n",
       " 'put',\n",
       " 'put_along_axis',\n",
       " 'putmask',\n",
       " 'quantile',\n",
       " 'r_',\n",
       " 'rad2deg',\n",
       " 'radians',\n",
       " 'random',\n",
       " 'ravel',\n",
       " 'ravel_multi_index',\n",
       " 'real',\n",
       " 'real_if_close',\n",
       " 'rec',\n",
       " 'recarray',\n",
       " 'recfromcsv',\n",
       " 'recfromtxt',\n",
       " 'reciprocal',\n",
       " 'record',\n",
       " 'remainder',\n",
       " 'repeat',\n",
       " 'require',\n",
       " 'reshape',\n",
       " 'resize',\n",
       " 'result_type',\n",
       " 'right_shift',\n",
       " 'rint',\n",
       " 'roll',\n",
       " 'rollaxis',\n",
       " 'roots',\n",
       " 'rot90',\n",
       " 'round',\n",
       " 'round_',\n",
       " 'row_stack',\n",
       " 's_',\n",
       " 'safe_eval',\n",
       " 'save',\n",
       " 'savetxt',\n",
       " 'savez',\n",
       " 'savez_compressed',\n",
       " 'sctype2char',\n",
       " 'sctypeDict',\n",
       " 'sctypes',\n",
       " 'searchsorted',\n",
       " 'select',\n",
       " 'set_numeric_ops',\n",
       " 'set_printoptions',\n",
       " 'set_string_function',\n",
       " 'setbufsize',\n",
       " 'setdiff1d',\n",
       " 'seterr',\n",
       " 'seterrcall',\n",
       " 'seterrobj',\n",
       " 'setxor1d',\n",
       " 'shape',\n",
       " 'shares_memory',\n",
       " 'short',\n",
       " 'show_config',\n",
       " 'sign',\n",
       " 'signbit',\n",
       " 'signedinteger',\n",
       " 'sin',\n",
       " 'sinc',\n",
       " 'single',\n",
       " 'singlecomplex',\n",
       " 'sinh',\n",
       " 'size',\n",
       " 'sometrue',\n",
       " 'sort',\n",
       " 'sort_complex',\n",
       " 'source',\n",
       " 'spacing',\n",
       " 'split',\n",
       " 'sqrt',\n",
       " 'square',\n",
       " 'squeeze',\n",
       " 'stack',\n",
       " 'std',\n",
       " 'str0',\n",
       " 'str_',\n",
       " 'string_',\n",
       " 'subtract',\n",
       " 'sum',\n",
       " 'swapaxes',\n",
       " 'sys',\n",
       " 'take',\n",
       " 'take_along_axis',\n",
       " 'tan',\n",
       " 'tanh',\n",
       " 'tensordot',\n",
       " 'test',\n",
       " 'testing',\n",
       " 'tile',\n",
       " 'timedelta64',\n",
       " 'trace',\n",
       " 'tracemalloc_domain',\n",
       " 'transpose',\n",
       " 'trapz',\n",
       " 'tri',\n",
       " 'tril',\n",
       " 'tril_indices',\n",
       " 'tril_indices_from',\n",
       " 'trim_zeros',\n",
       " 'triu',\n",
       " 'triu_indices',\n",
       " 'triu_indices_from',\n",
       " 'true_divide',\n",
       " 'trunc',\n",
       " 'typeDict',\n",
       " 'typecodes',\n",
       " 'typename',\n",
       " 'ubyte',\n",
       " 'ufunc',\n",
       " 'uint',\n",
       " 'uint0',\n",
       " 'uint16',\n",
       " 'uint32',\n",
       " 'uint64',\n",
       " 'uint8',\n",
       " 'uintc',\n",
       " 'uintp',\n",
       " 'ulonglong',\n",
       " 'unicode_',\n",
       " 'union1d',\n",
       " 'unique',\n",
       " 'unpackbits',\n",
       " 'unravel_index',\n",
       " 'unsignedinteger',\n",
       " 'unwrap',\n",
       " 'use_hugepage',\n",
       " 'ushort',\n",
       " 'vander',\n",
       " 'var',\n",
       " 'vdot',\n",
       " 'vectorize',\n",
       " 'version',\n",
       " 'void',\n",
       " 'void0',\n",
       " 'vsplit',\n",
       " 'vstack',\n",
       " 'w',\n",
       " 'warnings',\n",
       " 'where',\n",
       " 'who',\n",
       " 'zeros',\n",
       " 'zeros_like']"
      ]
     },
     "execution_count": 1,
     "metadata": {},
     "output_type": "execute_result"
    }
   ],
   "source": [
    "import numpy\n",
    "dir(numpy)"
   ]
  },
  {
   "cell_type": "markdown",
   "id": "94cbe2c8",
   "metadata": {},
   "source": [
    "ในบทนี้เราจะศึกษาเฉพาะคำสั่งและฟังก์ชันที่สำคัญ ๆ ซึ่งจำเป็นต้องใช้ในคณิตศาสตร์การคำนวณเท่านั้น"
   ]
  },
  {
   "cell_type": "markdown",
   "id": "a1b4010c",
   "metadata": {},
   "source": [
    "# การสร้างเวกเตอร์และเมทริกซ์\n",
    "\n",
    "เริ่มจากการสร้างเวกเตอร์แบบแถวนอน (Row Vector) ขนาด $(1 \\times 2)$ คือ 1 row และ 2 columns เช่น"
   ]
  },
  {
   "cell_type": "code",
   "execution_count": 2,
   "id": "8df1af44",
   "metadata": {},
   "outputs": [
    {
     "data": {
      "text/plain": [
       "array([1, 2])"
      ]
     },
     "execution_count": 2,
     "metadata": {},
     "output_type": "execute_result"
    }
   ],
   "source": [
    "import numpy as np\n",
    "a = np.array([1, 2])\n",
    "a"
   ]
  },
  {
   "cell_type": "markdown",
   "id": "c3b82d7e",
   "metadata": {},
   "source": [
    "และเวกเตอร์แบบแถวตั้ง (Column Vector) ขนาด $(2 \\times 1)$ คือ 2 rows และ 1 column เช่น"
   ]
  },
  {
   "cell_type": "code",
   "execution_count": 3,
   "id": "548d5da4",
   "metadata": {},
   "outputs": [
    {
     "data": {
      "text/plain": [
       "array([[3],\n",
       "       [4]])"
      ]
     },
     "execution_count": 3,
     "metadata": {},
     "output_type": "execute_result"
    }
   ],
   "source": [
    "b = np.array([[3], [4]])\n",
    "b"
   ]
  },
  {
   "cell_type": "markdown",
   "id": "ed6f6b22",
   "metadata": {},
   "source": [
    "รวมทั้งเมทริกซ์ใน 2 มิติ ขนาด ($ 2 \\times 2 $) คือ 2 rows และ 2 columns เช่น"
   ]
  },
  {
   "cell_type": "code",
   "execution_count": 4,
   "id": "ef82e601",
   "metadata": {},
   "outputs": [
    {
     "data": {
      "text/plain": [
       "array([[5, 6],\n",
       "       [7, 8]])"
      ]
     },
     "execution_count": 4,
     "metadata": {},
     "output_type": "execute_result"
    }
   ],
   "source": [
    "c = np.array([[5, 6], [7, 8]])\n",
    "c"
   ]
  },
  {
   "cell_type": "markdown",
   "id": "00016176",
   "metadata": {},
   "source": [
    "แพ็กเกจ NumPy บรรจุหลายคำสั่งเพื่อสร้างเมทริกซ์ที่มีลักษณะจำเพาะได้โดยสะดวก เช่น ต้องการสร้างเมทริกซ์ขนาด ($ 3 \\times 3 $) ที่เอลิเมนต์ (Element) ทุกตัวมีค่าเป็นศูนย์"
   ]
  },
  {
   "cell_type": "code",
   "execution_count": 5,
   "id": "f2ba9002",
   "metadata": {},
   "outputs": [
    {
     "data": {
      "text/plain": [
       "array([[0., 0., 0.],\n",
       "       [0., 0., 0.],\n",
       "       [0., 0., 0.]])"
      ]
     },
     "execution_count": 5,
     "metadata": {},
     "output_type": "execute_result"
    }
   ],
   "source": [
    "z = np.zeros((3,3))\n",
    "z"
   ]
  },
  {
   "cell_type": "markdown",
   "id": "1b07d812",
   "metadata": {},
   "source": [
    "หรือเมทริกซ์ขนาด ($ 2 \\times 3 $) ที่เอลิเมนต์ทุกตัวมีค่าเป็นหนึ่ง"
   ]
  },
  {
   "cell_type": "code",
   "execution_count": 6,
   "id": "8a6718db",
   "metadata": {},
   "outputs": [
    {
     "data": {
      "text/plain": [
       "array([[1., 1., 1.],\n",
       "       [1., 1., 1.]])"
      ]
     },
     "execution_count": 6,
     "metadata": {},
     "output_type": "execute_result"
    }
   ],
   "source": [
    "o = np.ones((2, 3))\n",
    "o"
   ]
  },
  {
   "cell_type": "code",
   "execution_count": 4,
   "id": "959867bb",
   "metadata": {},
   "outputs": [
    {
     "data": {
      "text/plain": [
       "array([[5., 5., 5.],\n",
       "       [5., 5., 5.],\n",
       "       [5., 5., 5.]])"
      ]
     },
     "execution_count": 4,
     "metadata": {},
     "output_type": "execute_result"
    }
   ],
   "source": [
    "MF = 5 * np.ones((3,3))\n",
    "MF"
   ]
  },
  {
   "cell_type": "markdown",
   "id": "69700a57",
   "metadata": {},
   "source": [
    "และเมทริกซ์เอกลักษณ์ (Identity Matrix) ขนาด ($ 3 \\times 3 $)"
   ]
  },
  {
   "cell_type": "code",
   "execution_count": 7,
   "id": "63fcd6e3",
   "metadata": {},
   "outputs": [
    {
     "data": {
      "text/plain": [
       "array([[1., 0., 0.],\n",
       "       [0., 1., 0.],\n",
       "       [0., 0., 1.]])"
      ]
     },
     "execution_count": 7,
     "metadata": {},
     "output_type": "execute_result"
    }
   ],
   "source": [
    "i = np.eye(3)\n",
    "i"
   ]
  },
  {
   "cell_type": "markdown",
   "id": "10dbabc2",
   "metadata": {},
   "source": [
    "รวมทั้งการทำทรานสโพสเมทริกซ์ (Matrix Transpose) เช่น ต้องการหาค่าทรานสโพสของเวกเตอร์แนวนอน a เวกเตอร์แนวตั้ง b และเมทริกซ์ c ก่อนหน้านี้"
   ]
  },
  {
   "cell_type": "code",
   "execution_count": 8,
   "id": "119bf6a0",
   "metadata": {},
   "outputs": [
    {
     "data": {
      "text/plain": [
       "array([[1],\n",
       "       [2]])"
      ]
     },
     "execution_count": 8,
     "metadata": {},
     "output_type": "execute_result"
    }
   ],
   "source": [
    "a = np.array ([1, 2])\n",
    "np.transpose([a])"
   ]
  },
  {
   "cell_type": "code",
   "execution_count": 9,
   "id": "0ace8362",
   "metadata": {},
   "outputs": [
    {
     "data": {
      "text/plain": [
       "array([[3, 4]])"
      ]
     },
     "execution_count": 9,
     "metadata": {},
     "output_type": "execute_result"
    }
   ],
   "source": [
    "b = np.array([[3], [4]])\n",
    "np.transpose(b)"
   ]
  },
  {
   "cell_type": "code",
   "execution_count": 10,
   "id": "957d4d45",
   "metadata": {},
   "outputs": [
    {
     "data": {
      "text/plain": [
       "array([[5, 7],\n",
       "       [6, 8]])"
      ]
     },
     "execution_count": 10,
     "metadata": {},
     "output_type": "execute_result"
    }
   ],
   "source": [
    "c = np.array([[5, 6], [7, 8]])\n",
    "np.transpose(c)"
   ]
  },
  {
   "cell_type": "markdown",
   "id": "f572b18d",
   "metadata": {},
   "source": [
    "สิ่งสำคัญสิ่งหนึ่งที่ต้องตระหนักอยู่เสมอในขณะใช้ซอฟต์แวร์ไพธอนก็คือ วิธีการใช้หมายเลขของดัชนี (Index) เพื่อกำกับตำแหน่งของเอลิเมนต์ในเมทริกซ์ ซอฟต์แวร์ไพธอนกำหนดหมายเลขดัชนีเริ่มต้นจากหมายเลขศูนย์เสมอทั้งในแถวนอนและแถวตั้งในขณะที่ซอฟต์แวร์อื่น ๆ (เช่น MATLAB, Mathematica และ Fortran) เริ่มต้นจากดัชนีหมายเลขหนึ่ง ยกตัวอย่างเช่น เรามีเมทริกซ์ d ขนาด ($ 3 \\times 3 $) ซึ่งบรรจุตัวเลข ดังนี้"
   ]
  },
  {
   "cell_type": "code",
   "execution_count": 24,
   "id": "b02ee958",
   "metadata": {},
   "outputs": [
    {
     "data": {
      "text/plain": [
       "array([[1., 2., 3.],\n",
       "       [4., 5., 6.],\n",
       "       [7., 8., 9.]])"
      ]
     },
     "execution_count": 24,
     "metadata": {},
     "output_type": "execute_result"
    }
   ],
   "source": [
    "d = np.array([[1., 2., 3.], [4., 5., 6.], [7., 8., 9.]])\n",
    "d"
   ]
  },
  {
   "cell_type": "markdown",
   "id": "bf951ba1",
   "metadata": {},
   "source": [
    "ในเมทริกซ์ d ข้างต้น เอลิเมนต์บนซ้ายสุดซึ่งมีค่าเท่ากับ 1 เป็นเอลิเมนต์ที่มีค่าดัชนีระบุตำแหน่งเป็น (0,0) คืออยู่ที่ row หมายเลขศูนย์และ column หมายเลขศูนย์ ไม่ใช่ที่ตำแหน่ง (1,1) หรือ row หมายเลขหนึ่ง และ column หมายเลขหนึ่ง ดังที่คุ้นเคยกันในซอฟต์แวร์อื่น ๆ หมายเลขตำแหน่งของดัชนีในซอฟต์แวร์ไพธอนเช่นนี้ยืนยันได้จาก "
   ]
  },
  {
   "cell_type": "code",
   "execution_count": 12,
   "id": "c094231c",
   "metadata": {},
   "outputs": [
    {
     "name": "stdout",
     "output_type": "stream",
     "text": [
      "1\n"
     ]
    }
   ],
   "source": [
    "print(d[0][0])"
   ]
  },
  {
   "cell_type": "markdown",
   "id": "f137446e",
   "metadata": {},
   "source": [
    "ในทำนองเดียวกัน หมายเลข 8 ในเมทริกซ์ d นี้มีค่าดัชนีระบุตำแหน่งเป็น (2,1)"
   ]
  },
  {
   "cell_type": "code",
   "execution_count": 13,
   "id": "e1f9c122",
   "metadata": {},
   "outputs": [
    {
     "name": "stdout",
     "output_type": "stream",
     "text": [
      "8\n"
     ]
    }
   ],
   "source": [
    "print(d[2][1])"
   ]
  },
  {
   "cell_type": "markdown",
   "id": "6c7b42d5",
   "metadata": {},
   "source": [
    "ในขณะที่เอลิเมนต์ที่มีดัชนีระบุตำแหน่งเป็น (3,3) ไม่ปรากฎอยู่ในเมทริกซ์ d นี้"
   ]
  },
  {
   "cell_type": "code",
   "execution_count": 14,
   "id": "46e18f08",
   "metadata": {
    "scrolled": true
   },
   "outputs": [
    {
     "ename": "IndexError",
     "evalue": "index 3 is out of bounds for axis 0 with size 3",
     "output_type": "error",
     "traceback": [
      "\u001b[0;31m---------------------------------------------------------------------------\u001b[0m",
      "\u001b[0;31mIndexError\u001b[0m                                Traceback (most recent call last)",
      "\u001b[0;32m<ipython-input-14-6ab3f3f80e24>\u001b[0m in \u001b[0;36m<module>\u001b[0;34m\u001b[0m\n\u001b[0;32m----> 1\u001b[0;31m \u001b[0mprint\u001b[0m\u001b[0;34m(\u001b[0m\u001b[0md\u001b[0m\u001b[0;34m[\u001b[0m\u001b[0;36m3\u001b[0m\u001b[0;34m]\u001b[0m\u001b[0;34m[\u001b[0m\u001b[0;36m3\u001b[0m\u001b[0;34m]\u001b[0m\u001b[0;34m)\u001b[0m\u001b[0;34m\u001b[0m\u001b[0;34m\u001b[0m\u001b[0m\n\u001b[0m",
      "\u001b[0;31mIndexError\u001b[0m: index 3 is out of bounds for axis 0 with size 3"
     ]
    }
   ],
   "source": [
    "print(d[3][3])"
   ]
  },
  {
   "cell_type": "code",
   "execution_count": 13,
   "id": "a34abc93",
   "metadata": {},
   "outputs": [
    {
     "data": {
      "text/plain": [
       "array([[1, 2, 3],\n",
       "       [4, 5, 6],\n",
       "       [7, 8, 9]])"
      ]
     },
     "execution_count": 13,
     "metadata": {},
     "output_type": "execute_result"
    }
   ],
   "source": [
    "d"
   ]
  },
  {
   "cell_type": "code",
   "execution_count": 15,
   "id": "c328db9b",
   "metadata": {},
   "outputs": [],
   "source": [
    "d[0] = np.array([100, 200, 300])"
   ]
  },
  {
   "cell_type": "code",
   "execution_count": 17,
   "id": "fdaf3713",
   "metadata": {},
   "outputs": [],
   "source": [
    "d[0] = (1/100) * d[0]"
   ]
  },
  {
   "cell_type": "code",
   "execution_count": 42,
   "id": "5ba30fa1",
   "metadata": {},
   "outputs": [
    {
     "data": {
      "text/plain": [
       "array([[1., 2., 3.],\n",
       "       [4., 5., 6.],\n",
       "       [7., 8., 9.]])"
      ]
     },
     "execution_count": 42,
     "metadata": {},
     "output_type": "execute_result"
    }
   ],
   "source": [
    "d = np.array([[1., 2., 3.], [4., 5., 6.], [7., 8., 9.]])\n",
    "d"
   ]
  },
  {
   "cell_type": "code",
   "execution_count": 43,
   "id": "8d4a3ca1",
   "metadata": {},
   "outputs": [
    {
     "data": {
      "text/plain": [
       "array([[1. , 2. , 3. ],\n",
       "       [0.8, 1. , 1.2],\n",
       "       [7. , 8. , 9. ]])"
      ]
     },
     "execution_count": 43,
     "metadata": {},
     "output_type": "execute_result"
    }
   ],
   "source": [
    "d[1] = (1/5) * d[1]\n",
    "d"
   ]
  },
  {
   "cell_type": "code",
   "execution_count": 44,
   "id": "0643c626",
   "metadata": {},
   "outputs": [
    {
     "data": {
      "text/plain": [
       "array([[-0.6,  0. ,  0.6],\n",
       "       [ 0.8,  1. ,  1.2],\n",
       "       [ 7. ,  8. ,  9. ]])"
      ]
     },
     "execution_count": 44,
     "metadata": {},
     "output_type": "execute_result"
    }
   ],
   "source": [
    "d[0] = -2 * d[1] + d[0]\n",
    "d"
   ]
  },
  {
   "cell_type": "code",
   "execution_count": 39,
   "id": "d03347df",
   "metadata": {},
   "outputs": [
    {
     "data": {
      "text/plain": [
       "array([[-0.6,  0. ,  0.6],\n",
       "       [ 0.8,  1. ,  1.2],\n",
       "       [ 0.6,  0. , -0.6]])"
      ]
     },
     "execution_count": 39,
     "metadata": {},
     "output_type": "execute_result"
    }
   ],
   "source": [
    "d[2] = -8 * d[1] + d[2]\n",
    "d"
   ]
  },
  {
   "cell_type": "markdown",
   "id": "e9bce4d7",
   "metadata": {},
   "source": [
    "ดังนั้น การประดิษฐ์โปรแกรมซึ่งต้องเกี่ยวข้องกับหมายเลข row และ column ในเมทริกซ์ จึงต้องกระทำอย่างระมัดระวังในขณะใช้ซอฟต์แวร์ไพธอน "
   ]
  },
  {
   "cell_type": "markdown",
   "id": "a6f77423",
   "metadata": {},
   "source": [
    "# การดำเนินการทางคณิตศาสตร์ของเวกเตอร์และเมทริกซ์"
   ]
  },
  {
   "cell_type": "markdown",
   "id": "870df352",
   "metadata": {},
   "source": [
    "ในหัวข้อนี้เราจะศึกษาการนำเวกเตอร์และเมทริกซ์ที่ได้สร้างขึ้นมาดำเนินการทางคณิตศาสตร์ระหว่างกัน เช่น การบวก การลบ การคูณ การหาค่าดีเทอร์มิแนนต์และค่าเมทริกซ์ผกผัน โดยจะเริ่มต้นจากการดำเนินการทางคณิตศาสตร์สำหรับเวกเตอร์ก่อน สมมติว่าเรามีเวกเตอร์ 2 เวกเตอร์ เช่น"
   ]
  },
  {
   "cell_type": "code",
   "execution_count": 54,
   "id": "50837cdd",
   "metadata": {},
   "outputs": [
    {
     "name": "stdout",
     "output_type": "stream",
     "text": [
      "u =  [1 5 6]\n",
      "v =  [3 7 2]\n"
     ]
    }
   ],
   "source": [
    "u = np.array([1, 5, 6])\n",
    "v = np.array([3, 7, 2])\n",
    "print('u = ', u)\n",
    "print('v = ', v)"
   ]
  },
  {
   "cell_type": "code",
   "execution_count": 63,
   "id": "ce80ca42",
   "metadata": {},
   "outputs": [
    {
     "name": "stdout",
     "output_type": "stream",
     "text": [
      "[[1 2 3]\n",
      " [4 5 6]]\n"
     ]
    },
    {
     "data": {
      "text/plain": [
       "(2, 3)"
      ]
     },
     "execution_count": 63,
     "metadata": {},
     "output_type": "execute_result"
    }
   ],
   "source": [
    "b = np.array([[1,2,3], [4,5,6]])\n",
    "print(b)\n",
    "np.shape(b)"
   ]
  },
  {
   "cell_type": "code",
   "execution_count": 66,
   "id": "4225e383",
   "metadata": {},
   "outputs": [
    {
     "name": "stdout",
     "output_type": "stream",
     "text": [
      "m =  [1 2 3]\n",
      "n =  [[1]\n",
      " [2]\n",
      " [3]]\n",
      "(3,)\n",
      "(3, 1)\n"
     ]
    }
   ],
   "source": [
    "m = np.array([1,2,3])\n",
    "n = np.array([ [1], [2], [3] ])\n",
    "print('m = ', m)\n",
    "print('n = ', n)\n",
    "print(np.shape(m))\n",
    "print(np.shape(n))"
   ]
  },
  {
   "cell_type": "markdown",
   "id": "0bccbc48",
   "metadata": {},
   "source": [
    "การบวกและลบระหว่างเวกเตอร์นั้นทำได้โดยตรง ดังนี้"
   ]
  },
  {
   "cell_type": "code",
   "execution_count": 55,
   "id": "d59e3551",
   "metadata": {},
   "outputs": [
    {
     "data": {
      "text/plain": [
       "array([ 4, 12,  8])"
      ]
     },
     "execution_count": 55,
     "metadata": {},
     "output_type": "execute_result"
    }
   ],
   "source": [
    "w = u + v \n",
    "w"
   ]
  },
  {
   "cell_type": "code",
   "execution_count": 56,
   "id": "1dff869b",
   "metadata": {},
   "outputs": [
    {
     "data": {
      "text/plain": [
       "array([-2, -2,  4])"
      ]
     },
     "execution_count": 56,
     "metadata": {},
     "output_type": "execute_result"
    }
   ],
   "source": [
    "w = u - v\n",
    "w"
   ]
  },
  {
   "cell_type": "markdown",
   "id": "9f3a8cec",
   "metadata": {},
   "source": [
    "แต่ถ้าต้องการหาผลลัพธ์จากการดอท (Dot Product) หรือหาผลลัพธ์จากการครอส (Cross Product) ก็สามารถใช้คำสั่งดังต่อไปนี้ได้ตามลำดับ"
   ]
  },
  {
   "cell_type": "code",
   "execution_count": 18,
   "id": "cbdbda1b",
   "metadata": {},
   "outputs": [
    {
     "data": {
      "text/plain": [
       "50"
      ]
     },
     "execution_count": 18,
     "metadata": {},
     "output_type": "execute_result"
    }
   ],
   "source": [
    "w = np.dot(u, v) \n",
    "w"
   ]
  },
  {
   "cell_type": "code",
   "execution_count": 19,
   "id": "43d09a29",
   "metadata": {},
   "outputs": [
    {
     "data": {
      "text/plain": [
       "array([-32,  16,  -8])"
      ]
     },
     "execution_count": 19,
     "metadata": {},
     "output_type": "execute_result"
    }
   ],
   "source": [
    "w = np.cross(u, v)\n",
    "w"
   ]
  },
  {
   "cell_type": "code",
   "execution_count": 20,
   "id": "75a006ea",
   "metadata": {},
   "outputs": [
    {
     "data": {
      "text/plain": [
       "array([ 32, -16,   8])"
      ]
     },
     "execution_count": 20,
     "metadata": {},
     "output_type": "execute_result"
    }
   ],
   "source": [
    "w = np.cross(v, u)\n",
    "w"
   ]
  },
  {
   "cell_type": "markdown",
   "id": "31e92ffa",
   "metadata": {},
   "source": [
    "เราสามารถดำเนินการทางคณิตศาสตร์ระหว่างปริมาณสเกลาร์ (Scalar) กับเวกเตอร์ได้ทั้งการบวก ลบ คูณ และหาร โดยปริมาณสเกลาร์จะถูกเข้าไปบวก ลบ คูณ และหารกับแต่ละเอลิเมนต์ของเวกเตอร์นั้น ดังตัวอย่างต่อไปนี้ "
   ]
  },
  {
   "cell_type": "code",
   "execution_count": 21,
   "id": "93dc77d4",
   "metadata": {},
   "outputs": [
    {
     "data": {
      "text/plain": [
       "array([3, 7, 8])"
      ]
     },
     "execution_count": 21,
     "metadata": {},
     "output_type": "execute_result"
    }
   ],
   "source": [
    "u + 2"
   ]
  },
  {
   "cell_type": "code",
   "execution_count": 67,
   "id": "5a6541fd",
   "metadata": {},
   "outputs": [
    {
     "data": {
      "text/plain": [
       "array([3., 7., 8.])"
      ]
     },
     "execution_count": 67,
     "metadata": {},
     "output_type": "execute_result"
    }
   ],
   "source": [
    "u + 2 * np.ones( np.shape(u) )"
   ]
  },
  {
   "cell_type": "code",
   "execution_count": 22,
   "id": "c258df37",
   "metadata": {},
   "outputs": [
    {
     "data": {
      "text/plain": [
       "array([-1,  3,  4])"
      ]
     },
     "execution_count": 22,
     "metadata": {},
     "output_type": "execute_result"
    }
   ],
   "source": [
    "u - 2"
   ]
  },
  {
   "cell_type": "code",
   "execution_count": 23,
   "id": "60d20ead",
   "metadata": {},
   "outputs": [
    {
     "data": {
      "text/plain": [
       "array([ 2, 10, 12])"
      ]
     },
     "execution_count": 23,
     "metadata": {},
     "output_type": "execute_result"
    }
   ],
   "source": [
    "u * 2"
   ]
  },
  {
   "cell_type": "code",
   "execution_count": 24,
   "id": "4a259c05",
   "metadata": {},
   "outputs": [
    {
     "data": {
      "text/plain": [
       "array([0.5, 2.5, 3. ])"
      ]
     },
     "execution_count": 24,
     "metadata": {},
     "output_type": "execute_result"
    }
   ],
   "source": [
    "u / 2 "
   ]
  },
  {
   "cell_type": "markdown",
   "id": "dbf50a69",
   "metadata": {},
   "source": [
    "เราสามารถทำการบวก ลบ และคูณเมทริกซ์เข้าด้วยกัน โดยการบวกและลบนั้น เมทริกซ์ทั้งสองต้องมีขนาดที่เท่ากัน ยกตัวอย่างเช่น ถ้าเรามีเมทริกซ์ 3 เมทริกซ์ดังนี้ "
   ]
  },
  {
   "cell_type": "code",
   "execution_count": 68,
   "id": "9e18b5ec",
   "metadata": {},
   "outputs": [],
   "source": [
    "M = np.array([[3, 4, 6], [8, 7, 2]])"
   ]
  },
  {
   "cell_type": "code",
   "execution_count": 69,
   "id": "0d711f52",
   "metadata": {},
   "outputs": [],
   "source": [
    "N = np.array([[1, 0, 5], [9, 6, 3]])"
   ]
  },
  {
   "cell_type": "code",
   "execution_count": 70,
   "id": "c01aa8ad",
   "metadata": {},
   "outputs": [],
   "source": [
    "P = np.array([[2, 3], [1, 5], [4, 9]])"
   ]
  },
  {
   "cell_type": "markdown",
   "id": "e56fc290",
   "metadata": {},
   "source": [
    "โดยเมทริกซ์ M และ N มีขนาด $(2 \\times 3)$ ส่วนเมทริกซ์ P มีขนาด $(3 \\times 2)$ เราสามารถดำเนินการบวกหรือลบระหว่างเมทริกซ์ M กับ N ได้ แต่ไม่สามารถดำเนินการดังกล่าวระหว่างเมทริกซ์ M กับ P ได้ เนื่องจากมีขนาดไม่เท่ากัน ดังตัวอย่างต่อไปนี้ "
   ]
  },
  {
   "cell_type": "code",
   "execution_count": 71,
   "id": "9c53202f",
   "metadata": {},
   "outputs": [
    {
     "data": {
      "text/plain": [
       "array([[ 4,  4, 11],\n",
       "       [17, 13,  5]])"
      ]
     },
     "execution_count": 71,
     "metadata": {},
     "output_type": "execute_result"
    }
   ],
   "source": [
    "M + N"
   ]
  },
  {
   "cell_type": "code",
   "execution_count": 72,
   "id": "fef25e1b",
   "metadata": {},
   "outputs": [
    {
     "data": {
      "text/plain": [
       "array([[-2, -4, -1],\n",
       "       [ 1, -1,  1]])"
      ]
     },
     "execution_count": 72,
     "metadata": {},
     "output_type": "execute_result"
    }
   ],
   "source": [
    "N - M"
   ]
  },
  {
   "cell_type": "code",
   "execution_count": 73,
   "id": "9b25b20b",
   "metadata": {},
   "outputs": [
    {
     "ename": "ValueError",
     "evalue": "operands could not be broadcast together with shapes (2,3) (3,2) ",
     "output_type": "error",
     "traceback": [
      "\u001b[0;31m---------------------------------------------------------------------------\u001b[0m",
      "\u001b[0;31mValueError\u001b[0m                                Traceback (most recent call last)",
      "\u001b[0;32m<ipython-input-73-ced00130ac11>\u001b[0m in \u001b[0;36m<module>\u001b[0;34m\u001b[0m\n\u001b[0;32m----> 1\u001b[0;31m \u001b[0mM\u001b[0m \u001b[0;34m+\u001b[0m \u001b[0mP\u001b[0m\u001b[0;34m\u001b[0m\u001b[0;34m\u001b[0m\u001b[0m\n\u001b[0m",
      "\u001b[0;31mValueError\u001b[0m: operands could not be broadcast together with shapes (2,3) (3,2) "
     ]
    }
   ],
   "source": [
    "M + P"
   ]
  },
  {
   "cell_type": "code",
   "execution_count": 76,
   "id": "0ece0a8c",
   "metadata": {},
   "outputs": [
    {
     "data": {
      "text/plain": [
       "array([[3, 4, 6],\n",
       "       [8, 7, 2]])"
      ]
     },
     "execution_count": 76,
     "metadata": {},
     "output_type": "execute_result"
    }
   ],
   "source": [
    "M"
   ]
  },
  {
   "cell_type": "code",
   "execution_count": 77,
   "id": "1b7f0661",
   "metadata": {},
   "outputs": [
    {
     "data": {
      "text/plain": [
       "array([[2, 3],\n",
       "       [1, 5],\n",
       "       [4, 9]])"
      ]
     },
     "execution_count": 77,
     "metadata": {},
     "output_type": "execute_result"
    }
   ],
   "source": [
    "P"
   ]
  },
  {
   "cell_type": "code",
   "execution_count": 79,
   "id": "dd8f9ec8",
   "metadata": {},
   "outputs": [
    {
     "ename": "ValueError",
     "evalue": "operands could not be broadcast together with shapes (3,2) (2,3) ",
     "output_type": "error",
     "traceback": [
      "\u001b[0;31m---------------------------------------------------------------------------\u001b[0m",
      "\u001b[0;31mValueError\u001b[0m                                Traceback (most recent call last)",
      "\u001b[0;32m<ipython-input-79-9afc396df1b9>\u001b[0m in \u001b[0;36m<module>\u001b[0;34m\u001b[0m\n\u001b[0;32m----> 1\u001b[0;31m \u001b[0mP\u001b[0m \u001b[0;34m*\u001b[0m \u001b[0mM\u001b[0m\u001b[0;34m\u001b[0m\u001b[0;34m\u001b[0m\u001b[0m\n\u001b[0m",
      "\u001b[0;31mValueError\u001b[0m: operands could not be broadcast together with shapes (3,2) (2,3) "
     ]
    }
   ],
   "source": [
    "P * M"
   ]
  },
  {
   "cell_type": "markdown",
   "id": "3351b9be",
   "metadata": {},
   "source": [
    "สำหรับการคูณเมทริกซ์นั้น จำนวน Column ของเมทริกซ์ตัวตั้งต้องเท่ากับจำนวน Low ของเมทริกซ์ตัวคูณ ดังนั้นเราสามารถคูณเมทริกซ์ P ด้วยเมทริกซ์ M ได้ "
   ]
  },
  {
   "cell_type": "code",
   "execution_count": 31,
   "id": "7884aba8",
   "metadata": {},
   "outputs": [],
   "source": [
    "P = np.matrix(P)"
   ]
  },
  {
   "cell_type": "code",
   "execution_count": 32,
   "id": "1a05db1d",
   "metadata": {},
   "outputs": [],
   "source": [
    "M = np.matrix(M)"
   ]
  },
  {
   "cell_type": "code",
   "execution_count": 33,
   "id": "63f7c2a6",
   "metadata": {},
   "outputs": [
    {
     "data": {
      "text/plain": [
       "matrix([[30, 29, 18],\n",
       "        [43, 39, 16],\n",
       "        [84, 79, 42]])"
      ]
     },
     "execution_count": 33,
     "metadata": {},
     "output_type": "execute_result"
    }
   ],
   "source": [
    "P * M"
   ]
  },
  {
   "cell_type": "markdown",
   "id": "063cce5c",
   "metadata": {},
   "source": [
    "ในการกลับกัน เราสามารถคูณเมทริกซ์ M ด้วยเมทริกซ์ P ได้ เพียงแต่ผลลัพธ์ที่ได้นั้นต่างกัน"
   ]
  },
  {
   "cell_type": "code",
   "execution_count": 34,
   "id": "4d617653",
   "metadata": {},
   "outputs": [
    {
     "data": {
      "text/plain": [
       "matrix([[34, 83],\n",
       "        [31, 77]])"
      ]
     },
     "execution_count": 34,
     "metadata": {},
     "output_type": "execute_result"
    }
   ],
   "source": [
    "M * P"
   ]
  },
  {
   "cell_type": "markdown",
   "id": "4a7535bd",
   "metadata": {},
   "source": [
    "ส่วนการหาค่าดีเทอร์มิแนนต์ (Determinant) ของเมทริกซ์ เมทริกซ์นั้นต้องเป็นเมทริกซ์จัตรัส เราสามารถใช้คำสั่งดังนี้เพื่อหาค่าดีเทอร์มิแนนต์"
   ]
  },
  {
   "cell_type": "code",
   "execution_count": 35,
   "id": "fafaaa2a",
   "metadata": {},
   "outputs": [],
   "source": [
    "F = np.array([[1, 4, 7], [2, 5, 6], [3, 4, 8]])"
   ]
  },
  {
   "cell_type": "code",
   "execution_count": 36,
   "id": "69d33876",
   "metadata": {},
   "outputs": [
    {
     "data": {
      "text/plain": [
       "-25.000000000000007"
      ]
     },
     "execution_count": 36,
     "metadata": {},
     "output_type": "execute_result"
    }
   ],
   "source": [
    "np.linalg.det(F)"
   ]
  },
  {
   "cell_type": "markdown",
   "id": "43005ffd",
   "metadata": {},
   "source": [
    "แต่ถ้าต้องหาค่าเมทริกซ์ผกผัน (Inverse) เราก็ใช้คำสั่งว่า"
   ]
  },
  {
   "cell_type": "code",
   "execution_count": 37,
   "id": "c1d30e5e",
   "metadata": {},
   "outputs": [
    {
     "data": {
      "text/plain": [
       "array([[-0.64,  0.16,  0.44],\n",
       "       [-0.08,  0.52, -0.32],\n",
       "       [ 0.28, -0.32,  0.12]])"
      ]
     },
     "execution_count": 37,
     "metadata": {},
     "output_type": "execute_result"
    }
   ],
   "source": [
    "np.linalg.inv(F)"
   ]
  },
  {
   "cell_type": "markdown",
   "id": "f783dcee",
   "metadata": {},
   "source": [
    "# เวกเตอร์และเมทริกซ์คณิตศาสตร์เชิงสัญลักษณ์"
   ]
  },
  {
   "cell_type": "markdown",
   "id": "32b1935a",
   "metadata": {},
   "source": [
    "เอลิเมนต์ในเวกเตอร์และเมทริกซ์อาจอยู่ในรูปแบบของสัญลักษณ์ได้ ซอฟต์แวร์ไพธอนมีศักยภาพในการดำเนินการกับเวกเตอร์และเมทริกซ์เหล่านี้ได้ในทำนองเดียวกันกับเมื่อเอลิเมนต์นั้นอยู่ในรูปแบบของตัวเลข แพ็กเกจ SymPy บรรจุคำสั่งและฟังก์ชันเพื่อใช้จัดการกับสัญลักษณ์ เราต้อง Import แพ็กเกจนี้เข้ามาก่อนการใช้งานดังนี้ "
   ]
  },
  {
   "cell_type": "code",
   "execution_count": 81,
   "id": "d9fcf393",
   "metadata": {},
   "outputs": [],
   "source": [
    "import sympy as sym"
   ]
  },
  {
   "cell_type": "markdown",
   "id": "709f6c3b",
   "metadata": {},
   "source": [
    "สมมติว่าเรามีเมทริกซ์ P และ Q ขนาด ($ 2 \\times 2 $) ดังต่อไปนี้ "
   ]
  },
  {
   "cell_type": "markdown",
   "id": "930bddd6",
   "metadata": {},
   "source": [
    "$$ [P] = \\begin{bmatrix} 1 & 2x \\\\ 3x^2 & 4x^3 \\end{bmatrix} $$ และ   \n",
    "  \n",
    " $$ [Q] = \\begin{bmatrix} a & b \\\\ c & d \\end{bmatrix} $$"
   ]
  },
  {
   "cell_type": "markdown",
   "id": "df3b8bd0",
   "metadata": {},
   "source": [
    "เราต้องระบุว่าตัวแปรใดเป็นสัญลักษณ์ก่อน แล้วจึงกำหนดเมทริกซ์ P และ Q ดังนี้ "
   ]
  },
  {
   "cell_type": "code",
   "execution_count": 82,
   "id": "3e3620a5",
   "metadata": {},
   "outputs": [],
   "source": [
    "x = sym.symbols(\"x\")"
   ]
  },
  {
   "cell_type": "code",
   "execution_count": 83,
   "id": "af75633f",
   "metadata": {},
   "outputs": [],
   "source": [
    "a, b, c, d = sym.symbols(\"a, b, c, d\")"
   ]
  },
  {
   "cell_type": "code",
   "execution_count": 84,
   "id": "a4231bea",
   "metadata": {},
   "outputs": [],
   "source": [
    "P = sym.Matrix([[1, 2*x], [3*x**2, 4*x**3]])"
   ]
  },
  {
   "cell_type": "code",
   "execution_count": 85,
   "id": "da6f8001",
   "metadata": {},
   "outputs": [
    {
     "data": {
      "text/latex": [
       "$\\displaystyle \\left[\\begin{matrix}1 & 2 x\\\\3 x^{2} & 4 x^{3}\\end{matrix}\\right]$"
      ],
      "text/plain": [
       "Matrix([\n",
       "[     1,    2*x],\n",
       "[3*x**2, 4*x**3]])"
      ]
     },
     "execution_count": 85,
     "metadata": {},
     "output_type": "execute_result"
    }
   ],
   "source": [
    "P"
   ]
  },
  {
   "cell_type": "code",
   "execution_count": 86,
   "id": "1f6611a7",
   "metadata": {},
   "outputs": [],
   "source": [
    "Q = sym.Matrix([[a, b], [c, d]])"
   ]
  },
  {
   "cell_type": "code",
   "execution_count": 87,
   "id": "574f24f8",
   "metadata": {},
   "outputs": [
    {
     "data": {
      "text/latex": [
       "$\\displaystyle \\left[\\begin{matrix}a & b\\\\c & d\\end{matrix}\\right]$"
      ],
      "text/plain": [
       "Matrix([\n",
       "[a, b],\n",
       "[c, d]])"
      ]
     },
     "execution_count": 87,
     "metadata": {},
     "output_type": "execute_result"
    }
   ],
   "source": [
    "Q"
   ]
  },
  {
   "cell_type": "markdown",
   "id": "d4d823dd",
   "metadata": {},
   "source": [
    "การบวกหรือลบกันระหว่างเมทริกซ์ เช่น"
   ]
  },
  {
   "cell_type": "code",
   "execution_count": 88,
   "id": "a87c334f",
   "metadata": {},
   "outputs": [
    {
     "data": {
      "text/latex": [
       "$\\displaystyle \\left[\\begin{matrix}a + 1 & b + 2 x\\\\c + 3 x^{2} & d + 4 x^{3}\\end{matrix}\\right]$"
      ],
      "text/plain": [
       "Matrix([\n",
       "[     a + 1,    b + 2*x],\n",
       "[c + 3*x**2, d + 4*x**3]])"
      ]
     },
     "execution_count": 88,
     "metadata": {},
     "output_type": "execute_result"
    }
   ],
   "source": [
    "P + Q"
   ]
  },
  {
   "cell_type": "code",
   "execution_count": 90,
   "id": "f4d95bf9",
   "metadata": {},
   "outputs": [
    {
     "data": {
      "text/latex": [
       "$\\displaystyle \\left[\\begin{matrix}- a^{2} + 3 a & - a b + 3 b\\\\- a c + 3 c & - a d + 3 d\\end{matrix}\\right]$"
      ],
      "text/plain": [
       "Matrix([\n",
       "[-a**2 + 3*a, -a*b + 3*b],\n",
       "[ -a*c + 3*c, -a*d + 3*d]])"
      ]
     },
     "execution_count": 90,
     "metadata": {},
     "output_type": "execute_result"
    }
   ],
   "source": [
    "3*Q - a*Q"
   ]
  },
  {
   "cell_type": "markdown",
   "id": "62e1c8ef",
   "metadata": {},
   "source": [
    "การคูณกันระหว่างเมทริกซ์ เช่น "
   ]
  },
  {
   "cell_type": "code",
   "execution_count": 47,
   "id": "e9e615a4",
   "metadata": {},
   "outputs": [
    {
     "data": {
      "text/latex": [
       "$\\displaystyle \\left[\\begin{matrix}a^{2} + b c & a b + b d\\\\a c + c d & b c + d^{2}\\end{matrix}\\right]$"
      ],
      "text/plain": [
       "Matrix([\n",
       "[a**2 + b*c,  a*b + b*d],\n",
       "[ a*c + c*d, b*c + d**2]])"
      ]
     },
     "execution_count": 47,
     "metadata": {},
     "output_type": "execute_result"
    }
   ],
   "source": [
    "Q * Q"
   ]
  },
  {
   "cell_type": "markdown",
   "id": "0871f3a5",
   "metadata": {},
   "source": [
    "การหาค่าดีเทอร์มิแนนต์ของเมทริกซ์ Q"
   ]
  },
  {
   "cell_type": "code",
   "execution_count": 48,
   "id": "17caeb34",
   "metadata": {},
   "outputs": [
    {
     "data": {
      "text/latex": [
       "$\\displaystyle a d - b c$"
      ],
      "text/plain": [
       "a*d - b*c"
      ]
     },
     "execution_count": 48,
     "metadata": {},
     "output_type": "execute_result"
    }
   ],
   "source": [
    "sym.det(Q)"
   ]
  },
  {
   "cell_type": "code",
   "execution_count": 92,
   "id": "c6f0ecf6",
   "metadata": {},
   "outputs": [
    {
     "data": {
      "text/latex": [
       "$\\displaystyle \\left[\\begin{matrix}a & b & c\\\\d & e & f\\\\g & h & i\\end{matrix}\\right]$"
      ],
      "text/plain": [
       "Matrix([\n",
       "[a, b, c],\n",
       "[d, e, f],\n",
       "[g, h, i]])"
      ]
     },
     "execution_count": 92,
     "metadata": {},
     "output_type": "execute_result"
    }
   ],
   "source": [
    "e, f, g, h, i = sym.symbols('e, f, g, h, i')\n",
    "A = sym.Matrix([ [a, b, c], [d, e, f], [g, h, i] ])\n",
    "A"
   ]
  },
  {
   "cell_type": "code",
   "execution_count": 93,
   "id": "bfebc1cb",
   "metadata": {},
   "outputs": [
    {
     "data": {
      "text/latex": [
       "$\\displaystyle a e i - a f h - b d i + b f g + c d h - c e g$"
      ],
      "text/plain": [
       "a*e*i - a*f*h - b*d*i + b*f*g + c*d*h - c*e*g"
      ]
     },
     "execution_count": 93,
     "metadata": {},
     "output_type": "execute_result"
    }
   ],
   "source": [
    "sym.det(A)"
   ]
  },
  {
   "cell_type": "markdown",
   "id": "a33f1f12",
   "metadata": {},
   "source": [
    "การหาค่าผลรวมของเอลิเมนต์ในแนวทแยงกลางของเมทริกซ์ Q"
   ]
  },
  {
   "cell_type": "code",
   "execution_count": 95,
   "id": "35d553a6",
   "metadata": {},
   "outputs": [
    {
     "data": {
      "text/latex": [
       "$\\displaystyle a + d$"
      ],
      "text/plain": [
       "a + d"
      ]
     },
     "execution_count": 95,
     "metadata": {},
     "output_type": "execute_result"
    }
   ],
   "source": [
    "sym.trace(Q)"
   ]
  },
  {
   "cell_type": "markdown",
   "id": "77ab4479",
   "metadata": {},
   "source": [
    "การหาค่าอนุพันธ์อันดับที่หนึ่งของเมทริกซ์ P"
   ]
  },
  {
   "cell_type": "code",
   "execution_count": 98,
   "id": "564d6098",
   "metadata": {},
   "outputs": [
    {
     "data": {
      "text/latex": [
       "$\\displaystyle \\left[\\begin{matrix}0 & 2\\\\6 x & 12 x^{2}\\end{matrix}\\right]$"
      ],
      "text/plain": [
       "Matrix([\n",
       "[  0,       2],\n",
       "[6*x, 12*x**2]])"
      ]
     },
     "execution_count": 98,
     "metadata": {},
     "output_type": "execute_result"
    }
   ],
   "source": [
    "sym.diff(P, x)"
   ]
  },
  {
   "cell_type": "markdown",
   "id": "284a4711",
   "metadata": {},
   "source": [
    "การหาค่าอนุพันธ์อันดับที่สามของเมทริกซ์ P"
   ]
  },
  {
   "cell_type": "code",
   "execution_count": 51,
   "id": "1408e75a",
   "metadata": {},
   "outputs": [
    {
     "data": {
      "text/latex": [
       "$\\displaystyle \\left[\\begin{matrix}0 & 0\\\\0 & 24\\end{matrix}\\right]$"
      ],
      "text/plain": [
       "Matrix([\n",
       "[0,  0],\n",
       "[0, 24]])"
      ]
     },
     "execution_count": 51,
     "metadata": {},
     "output_type": "execute_result"
    }
   ],
   "source": [
    "sym.diff(P, x, 3)"
   ]
  },
  {
   "cell_type": "markdown",
   "id": "6fdd8185",
   "metadata": {},
   "source": [
    "การอินทิเกรตเมทริกซ์ P"
   ]
  },
  {
   "cell_type": "code",
   "execution_count": 101,
   "id": "2f85e1bd",
   "metadata": {},
   "outputs": [
    {
     "data": {
      "text/latex": [
       "$\\displaystyle \\left[\\begin{matrix}x & x^{2}\\\\x^{3} & x^{4}\\end{matrix}\\right]$"
      ],
      "text/plain": [
       "Matrix([\n",
       "[   x, x**2],\n",
       "[x**3, x**4]])"
      ]
     },
     "execution_count": 101,
     "metadata": {},
     "output_type": "execute_result"
    }
   ],
   "source": [
    "sym.integrate(P, x)"
   ]
  },
  {
   "cell_type": "markdown",
   "id": "bf5252c7",
   "metadata": {},
   "source": [
    "การอินทิเกรตเมทริกซ์ P จากลิมิต 0 ถึง 1"
   ]
  },
  {
   "cell_type": "code",
   "execution_count": 53,
   "id": "71db2671",
   "metadata": {},
   "outputs": [
    {
     "data": {
      "text/latex": [
       "$\\displaystyle \\left[\\begin{matrix}1 & 1\\\\1 & 1\\end{matrix}\\right]$"
      ],
      "text/plain": [
       "Matrix([\n",
       "[1, 1],\n",
       "[1, 1]])"
      ]
     },
     "execution_count": 53,
     "metadata": {},
     "output_type": "execute_result"
    }
   ],
   "source": [
    "sym.integrate(P, (x, 0, 1))"
   ]
  },
  {
   "cell_type": "markdown",
   "id": "c864f902",
   "metadata": {},
   "source": [
    "อนึ่งเราสามารถเขียนคำสั่งในการแก้ปัญหาทางคณิตศาสตร์เป็น Python Scripts ก็จะช่วยให้เราแก้ปัญหาลักษณะเดียวกันได้อย่างอัตโนมัติ"
   ]
  },
  {
   "cell_type": "markdown",
   "id": "6ef6c523",
   "metadata": {},
   "source": [
    "# บทสรุป"
   ]
  },
  {
   "cell_type": "markdown",
   "id": "5d99506a",
   "metadata": {},
   "source": [
    "บทนี้นำเสนอการสร้างเวกเตอร์และเมทริกซ์เพื่อใช้งานในซอฟต์แวร์ไพธอน เวกเตอร์ และเมทริกซ์ เหล่านี้เป็นอาร์เรย์ซึ่งใช้สำหรับการเก็บค่าชุดตัวเลขและสัญลักษณ์ จากตัวอย่างที่นำเสนอจะเห็นได้ว่าการสร้างเวกเตอร์และเมทริกซ์นั้นสามารถทำได้โดยง่ายบนซอฟต์แวร์ไพธอน จากนั้นจึงนำเสนอวิธีการดำเนินการทางคณิตศาสตร์สำหรับเวกเตอร์และเมทริกซ์ที่ไม่ว่าจะเป็นการบวก การลบ การคูณ การทรานสโพส การหาค่าดีเทอร์มิแนนต์ และการหาเมทริกซ์ผกผัน เป็นต้น สุดท้ายเป็นการนำเสนอศักยภาพของซอฟต์แวร์ไพธอนที่ช่วยให้เราดำเนินการทางคณิตศาสตร์เชิงสัญลักษณ์ เช่น การหาค่าอนุพันธ์และการอินทิเกรตสำหรับเอลิเมนต์ภายในเวกเตอร์หรือเมทริกซ์ได้โดยสะดวก พื้นฐานความเข้าใจเหล่านี้เป็นสิ่งจำเป็นในการประดิษฐ์โปรแกรมคอมพิวเตอร์เพื่อใช้แก้ปัญหาในระดับสูงต่อไป "
   ]
  },
  {
   "cell_type": "markdown",
   "id": "b1cb25ff",
   "metadata": {},
   "source": [
    "# แบบฝึกหัด\n",
    "\n",
    "กำหนดให้ $ \\vec{i}, \\vec{j} $ และ $ \\vec{k} $ เป็นเวกเตอร์หน่วย (Unit Vector) ในปริภูมิเวกเตอร์สามมิติตามแนวแกน $ x,y $ และ $ z $ ตามลำดับ\n"
   ]
  },
  {
   "cell_type": "markdown",
   "id": "14f74005",
   "metadata": {},
   "source": [
    "1. กำหนดให้เวกเตอร์ $\\vec{u} = 3\\vec{i} + 4\\vec{j}$ และ $\\vec{v} = \\vec{i} - 5\\vec{j}$ เวกเตอร์ $ \\vec{u} $ และ $ \\vec{v} $ สามารถเขียนในอีกรูปแบบได้ดังนี้\n",
    "$$ \\vec{u} = \\begin{bmatrix} 3 \\\\ 4 \\end{bmatrix}  \\quad\\text{และ}\\quad  \\vec{v} = \\begin{bmatrix} 2 \\\\ -5 \\end{bmatrix} $$ \n",
    "จงใช้ไพธอนเพื่อคำนวณหา \n",
    "    1. $ \\vec{u} + \\vec{v} $\n",
    "    2. $ \\vec{u} - \\vec{v} $\n",
    "    3. $ \\vec{u} \\ast \\vec{v} $\n",
    "    4. $ \\log \\vec{u} $\n",
    "    5. $ \\vec{u} \\cdot \\vec{v} $\n",
    "    6. $ \\vec{v} \\cdot \\vec{u} $\n",
    "    7. $ \\vec{u} \\times \\vec{v} $\n",
    "    8. $ \\vec{v} \\times \\vec{u} $"
   ]
  },
  {
   "cell_type": "markdown",
   "id": "efb30cec",
   "metadata": {},
   "source": [
    "2. กำหนดให้เวกเตอร์ $ \\vec{u} = 4\\vec{i} + 2\\vec{j}, \\vec{v} = -\\vec{i} + 5\\vec{j}\n",
    "$ และ $ \\vec{w} = -3\\vec{i} + 2\\vec{j} $ เวกเตอร์ $ \\vec{u}, \\vec{v} $ และ $ \\vec{w} $ สามารถเขียนในอีกรูปแบบได้ดังนี้\n",
    "$$ \\vec{u} = \\begin{bmatrix} 4 \\\\ 2 \\end{bmatrix} \\; \\; ; \\; \\; \\vec{v} = \\begin{bmatrix} -1 \\\\ 5 \\end{bmatrix} \\; \\; ; \\; \\; \\vec{w} = \\begin{bmatrix} -3 \\\\ 2 \\end{bmatrix} $$ \n",
    "จงใช้ไพธอนเพื่อคำนวณหา \n",
    "    1. $ \\vec{u} + \\vec{v} $\n",
    "    1. $ \\vec{v} \\cdot \\vec{w} $\n",
    "    1. $ \\vec{v} \\cdot \\vec{v} $\n",
    "    1. $ \\vec{u} \\cdot (3 \\vec{w}) $\n",
    "    1. $ \\vec{u} \\cdot (\\vec{v} + \\vec{w}) $\n",
    "    1. $ (-\\vec{w}) \\cdot \\vec{u} $\n",
    "    1. $ \\vec{u} \\times (\\vec{v}+ \\vec{w}) $\n",
    "    1. $ (\\vec{v}+ \\vec{w}) \\times \\vec{u} $"
   ]
  },
  {
   "cell_type": "markdown",
   "id": "70ffaef9",
   "metadata": {},
   "source": [
    "3. กำหนดให้เวกเตอร์ $ \\vec{u} = 2\\vec{i}-5\\vec{j}+7\\vec{k} $ และ $ \\vec{v} = -\\vec{i}+4\\vec{j}-3\\vec{k} $ เวกเตอร์ $ \\vec{u}, $ และ $ \\vec{v} $ นี้สามารถเขียนในอีกรูปแบบได้ดังนี้\n",
    "$$ \\vec{u} = \\begin{bmatrix} 2 \\\\ -5 \\\\ 7 \\end{bmatrix}  \\text{และ }  \\vec{v} = \\begin{bmatrix} -1 \\\\ 4 \\\\ -3 \\end{bmatrix} $$ \n",
    "จงใช้ไพธอนเพื่อคำนวณหา \n",
    "    1. $ \\vec{u} + \\vec{v}  $\n",
    "    1. $ \\vec{u} \\ast \\vec{v} $\n",
    "    1. $ \\vec{u} \\cdot \\vec{v} $\n",
    "    1. $ \\vec{u} \\times \\vec{v} $\n",
    "    1. $ (\\vec{u} + \\vec{v}) \\cdot \\vec{u} $\n",
    "    1. $ (\\vec{u} - \\vec{v}) \\times \\vec{v} $\n",
    "    1. $ \\dfrac{\\vec{v} -\\vec{w}} {\\sqrt{\\vec{u}\\cdot \\vec{u}}} $\n",
    "    1.$ \\left(\\dfrac{\\vec{u} \\cdot \\vec{v}} {\\vec{v}\\cdot \\vec{v}}\\right) \\ast \\vec{w} $"
   ]
  },
  {
   "cell_type": "markdown",
   "id": "7da53c48",
   "metadata": {},
   "source": [
    "4. กำหนดให้เวกเตอร์ $ \\vec{u} = a\\vec{i}+b\\vec{j}+c\\vec{k} $ และ $ \\vec{v} = d\\vec{i}+e\\vec{j}+j\\vec{k} $  โดย $ a, b, c, d, e, f \\in \\mathbb{R}$ เวกเตอร์ $ \\vec{u}, $ และ $ \\vec{v} $ นี้สามารถเขียนในอีกรูปแบบได้ดังนี้\n",
    "$$ \\vec{u} = \\begin{bmatrix} a \\\\ b \\\\ c \\end{bmatrix} \\quad\\text{ และ }\\quad  \\vec{v} = \\begin{bmatrix} d \\\\ e \\\\ f \\end{bmatrix} $$ \n",
    "จงใช้ไพธอนเพื่อแสดงให้เห็นว่า \n",
    "    1. $ \\vec{u} \\cdot \\vec{v} = \\vec{v} \\cdot \\vec{u}    $\n",
    "    1. $ \\vec{u} \\times \\vec{v} = - \\vec{v} \\times \\vec{u} $\n",
    "    1. $ \\vec{u} \\times \\vec{u} = \\vec{v} \\times \\vec{v} = 0 $\n",
    "    1. $ \\vec{u} \\cdot (\\vec{u} \\times \\vec{v}) = \\vec{v} \\cdot (\\vec{u} \\times \\vec{v}) = 0  $"
   ]
  },
  {
   "cell_type": "markdown",
   "id": "05f92f9f",
   "metadata": {},
   "source": [
    "5. กำหนดให้เวกเตอร์ $ \\vec{u} , \\vec{v} $ และ $ \\vec{w} $ ในโคออร์ดิเนต 3 มิติ ซึ่งมีขนาดและทิศทางในรูปแบบดังนี้ \n",
    "$$ \\vec{u} = \\begin{bmatrix} 7 \\\\ 4 \\\\ -1  \\end{bmatrix}  ; \\vec{v} = \\begin{bmatrix} -5 \\\\ 3 \\\\ 8 \\end{bmatrix} ; \\vec{w} = \\begin{bmatrix} 9 \\\\ -6 \\\\ 2  \\end{bmatrix} $$ \n",
    "จงใช้ไพธอนเพื่อพิสูจน์สมการต่อไปนี้\n",
    "\n",
    "    1. $ \\vec{u} \\cdot \\vec{v} = \\vec{v} \\cdot \\vec{u}    $\n",
    "    1. $ \\vec{u} \\times \\vec{v} = - \\vec{v} \\times \\vec{u} $\n",
    "    1. $ \\vec{u} \\cdot (\\vec{v} + \\vec{w}) = \\vec{u} \\cdot \\vec{v} + \\vec{u} \\cdot \\vec{w}   $\n",
    "    1. $ \\vec{u} \\times (\\vec{v} + \\vec{w}) = (\\vec{u} \\times \\vec{v}) + (\\vec{u} \\times \\vec{w})   $\n",
    "    1. $ (\\vec{u} + \\vec{v}) \\times \\vec{w}  = (\\vec{u} \\times \\vec{w}) + (\\vec{v} \\times \\vec{w})   $\n",
    "    1. $ \\vec{u} \\times (\\vec{v} + \\vec{w}) = \\vec{v} \\ast (\\vec{u} \\cdot \\vec{w}) - \\vec{w} \\ast (\\vec{u} \\cdot \\vec{v})   $\n",
    "    1. $ (\\vec{u} \\times \\vec{v}) \\times \\vec{w}  = \\vec{v} \\ast (\\vec{u} \\cdot \\vec{w}) - \\vec{u} \\ast (\\vec{v} \\cdot \\vec{w})   $"
   ]
  },
  {
   "cell_type": "markdown",
   "id": "37cad3f1",
   "metadata": {},
   "source": [
    "6. กำหนดเมทริกซ์ \n",
    "$$ \\left[A\\right] = \\begin{bmatrix} 8 & -3 \\\\ 11 & 4 \\end{bmatrix} \\;\\; ; \\;\\; \\left[B\\right] = \\begin{bmatrix} -2 & 7 \\\\ -5 & 9 \\end{bmatrix} $$\n",
    "จงใช้ไพธอนเพื่อคำนวณหา\n",
    "\n",
    "    1. $ \\left[A\\right]^{-1} $ และ $ \\left[B\\right]^T $\n",
    "    1. $ |\\left[A\\right]| $ และ $ |\\left[B\\right]| $\n",
    "    1. $ \\left[A\\right] + \\left[B\\right] $ และ $ \\left[A\\right]^T + \\left[B\\right]^{-1} $\n",
    "    1. $ \\left[A\\right] \\left[A\\right]^{-1} $ และ $ \\left[A\\right] \\left[A\\right]^T $\n",
    "    1. $ \\left[A\\right] \\cdot \\left[B\\right] $ และ $ \\left[A\\right] \\ast \\left[B\\right] $ "
   ]
  },
  {
   "cell_type": "markdown",
   "id": "f94cdf4d",
   "metadata": {},
   "source": [
    "7. กำหนดเมทริกซ์ในรูปแบบของสัญลักษณ์ \n",
    "$$ \\left[A\\right] = \\begin{bmatrix} p & q \\\\ q & p \\end{bmatrix} \\;\\; ; \\;\\; \\left[B\\right] = \\begin{bmatrix} r & s \\\\ s & r \\end{bmatrix} $$\n",
    "จงใช้ไพธอนเพื่อคำนวณหาผลลัพธ์ตามข้อย่อยในปัญหาข้อ 6"
   ]
  },
  {
   "cell_type": "markdown",
   "id": "89d3a016",
   "metadata": {},
   "source": [
    "8. กำหนดเมทริกซ์ \n",
    "$$ \\left[A\\right] = \\begin{bmatrix} 1 & 2 & 3 \\\\ 4 & 5 & 6 \\\\ 7 & 8 & 9 \\end{bmatrix} \\;\\; ; \\;\\; \\left[B\\right] = \\begin{bmatrix} 9 & 8 & 7 \\\\ 6 & 5 & 4 \\\\ 3 & 2 & 1 \\end{bmatrix} $$\n",
    "จงใช้ไพธอนเพื่อคำนวณหาผลลัพธ์ตามข้อย่อยในปัญหาข้อ 6\n",
    "\n"
   ]
  },
  {
   "cell_type": "markdown",
   "id": "42066631",
   "metadata": {},
   "source": [
    "9. กำหนดเมทริกซ์ในรูปแบบของสัญลักษณ์  \n",
    "$$ \\left[A\\right] = \\begin{bmatrix} a_1 & a_2 & a_3 \\\\ a_4 & a_5 & a_6 \\\\ a_7 & a_8 & a_9 \\end{bmatrix} \\;\\; ; \\;\\; \\left[B\\right] = \\begin{bmatrix} b_1 & b_2 & b_3 \\\\ b_4 & b_5 & b_6 \\\\ b_7 & b_8 & b_9 \\end{bmatrix} $$\n",
    "จงใช้ไพธอนเพื่อคำนวณหาผลลัพธ์ตามข้อย่อยในปัญหาข้อ 6 จากนั้นให้วิจารณ์ข้อดีและข้อเสียของการใช้สัญลักษณ์แทนตัวเลขดังเช่นที่ใช้ในข้อ 8\n",
    "\n"
   ]
  },
  {
   "cell_type": "markdown",
   "id": "794f6c6d",
   "metadata": {},
   "source": [
    "10. เมทริกซ์ฮิลเบิร์ด (Hilbert Matrix) คือเมทริกซ์จัตุรัสซึ่งค่าในตำแหน่งแถวนอนที่ $ i $ และแถวตั้งที่ $ j $ คือ $ \\dfrac{1}{(i+j-1)} $ ยกตัวอย่างเช่น เมทริกซ์ฮิลเบิร์ด $ \\left[H\\right] $ ขนาด $ 3 \\times 3 $ คือ \n",
    "$$ \\begin{bmatrix} 1 & \\frac{1}{2} & \\frac{1}{3} \\\\ \\frac{1}{2} & \\frac{1}{3} & \\frac{1}{4} \\\\ \\frac{1}{3} & \\frac{1}{4} & \\frac{1}{5} \\end{bmatrix} $$\n",
    "จงใช้ไพธอนเพื่อหาค่าดีเทอร์มิแนนต์และเมทริกซ์ผกผันเมื่อเมทริกซ์ฮิลเบิร์ดมีขนาด\n",
    "    1. $3 \\times 3$\n",
    "    2. $ 5 \\times 5 $\n",
    "    3. $ 10 \\times 10 $ \n",
    "\n",
    "สังเกตและวิจารณ์ถึงผลลัพธ์ที่ได้เมื่อเมทริกซ์ฮิลเบิร์ดมีขนาดใหญ่ขึ้น\n",
    "\n"
   ]
  },
  {
   "cell_type": "markdown",
   "id": "daafdbd3",
   "metadata": {},
   "source": [
    "11. จงใช้ไพธอนเพื่อแก้ระบบสมการพีชคณิตเชิงเส้น \n",
    "\n",
    "(ก) \n",
    "$$ \\begin{bmatrix} 4 & 3 & 8 \\\\ 9 & 5 & 1 \\\\ 2 & 7 & 6 \\end{bmatrix} \\begin{bmatrix} x_1 \\\\ x_2 \\\\ x_3  \\end{bmatrix} = \\begin{bmatrix} 26 \\\\ 38 \\\\ 26  \\end{bmatrix} $$\n",
    "(ข) \n",
    "$$ \\begin{bmatrix} a_{11} & a_{12} & a_{13} \\\\ a_{21} & a_{22} & a_{23} \\\\ a_{31} & a_{32} & a_{33} \\end{bmatrix} \\begin{bmatrix} x_1 \\\\ x_2 \\\\ x_3  \\end{bmatrix} = \\begin{bmatrix} b_1 \\\\ b_2 \\\\ b_3  \\end{bmatrix} $$\n",
    "แล้วเปรียบเทียบความซับซ้อนของผลลัพธ์ที่เกิดขึ้นในข้อ (ก) และ (ข) จากนั้นให้วิจารณ์ข้อดีและข้อเสียของการใช้สัญลักษณ์เมื่อเปรียบเทียบกับตัวเลข\n",
    "\n"
   ]
  },
  {
   "cell_type": "markdown",
   "id": "bb729f16",
   "metadata": {},
   "source": [
    "12. จงหาค่าดีเทอร์มิแนนต์เมทริกซ์ผกผันของเมทริกซ์ต่อไปนี้\n",
    "\n",
    "(ก) \n",
    "$$ \\begin{bmatrix} 1 & 1 \\\\ -2 & 4  \\end{bmatrix} $$\n",
    "(ข)\n",
    "$$ \\begin{bmatrix} -149 & -50 & -154 \\\\ 537 & 180 & 546 \\\\ -27 & -9 & -25  \\end{bmatrix} $$\n"
   ]
  },
  {
   "cell_type": "markdown",
   "id": "35dc8074",
   "metadata": {},
   "source": [
    "13. จงหาค่าดีเทอร์มิแนนต์เมทริกซ์ผกผันของเมทริกซ์ในรูปแบบของสัญลักษณ์ต่อไปนี้\n",
    "\n",
    "(ก) \n",
    "$$ \\begin{bmatrix} a & b \\\\ c & d  \\end{bmatrix} $$\n",
    "\n",
    "(ข)\n",
    "$$ \\begin{bmatrix} a & b & c \\\\ b & a & c \\\\ c & b & a  \\end{bmatrix} $$\n",
    "\n"
   ]
  },
  {
   "cell_type": "markdown",
   "id": "a4f5dee5",
   "metadata": {},
   "source": [
    "14. กำหนดให้เมทริกซ์\n",
    "$$ \\left[A\\right] = \\begin{bmatrix} 2x & x^2 \\\\ x^3 & 7x \\end{bmatrix} ; \\left[B\\right] = \\begin{bmatrix} e^x & \\sin x \\\\ \\cos x & x \\end{bmatrix}    $$\n",
    "จงใช้ไพธอนเพื่อหาค่าอนุพันธ์ต่อไปนี้ \n",
    "    1. $ \\dfrac{d}{dx}\\left[A\\right]  $\n",
    "    1. $ \\dfrac{d}{dx}\\left[B\\right]  $\n",
    "    1. $ \\dfrac{d}{dx}(\\left[A\\right]+\\left[B\\right])  $\n",
    "    1. $ \\dfrac{d}{dx}(\\left[A\\right] \\left[B\\right])  $\n",
    "\n"
   ]
  },
  {
   "cell_type": "markdown",
   "id": "acbbd422",
   "metadata": {},
   "source": [
    "15. จงใช้เมทริกซ์ $ \\left[A\\right] $ และ $ \\left[B\\right] $ ที่กำหนดให้ในข้อ 14 เพื่อหาผลลัพธ์จากการอินทิเกรตต่อไปนี้ \n",
    "    1. $ \\displaystyle \\int \\left[A\\right] dx $\n",
    "    1. $ \\displaystyle \\int_{a}^{b} \\left[B\\right] dx $\n",
    "    1. $ \\displaystyle \\int (\\left[A\\right] + \\left[B\\right]) dx $\n",
    "    1. $ \\displaystyle \\int_{a}^{b} (\\left[A\\right]  \\left[B\\right]) dx $"
   ]
  },
  {
   "cell_type": "code",
   "execution_count": null,
   "id": "9721f521",
   "metadata": {},
   "outputs": [],
   "source": []
  }
 ],
 "metadata": {
  "kernelspec": {
   "display_name": "Python 3",
   "language": "python",
   "name": "python3"
  },
  "language_info": {
   "codemirror_mode": {
    "name": "ipython",
    "version": 3
   },
   "file_extension": ".py",
   "mimetype": "text/x-python",
   "name": "python",
   "nbconvert_exporter": "python",
   "pygments_lexer": "ipython3",
   "version": "3.9.0"
  }
 },
 "nbformat": 4,
 "nbformat_minor": 5
}
